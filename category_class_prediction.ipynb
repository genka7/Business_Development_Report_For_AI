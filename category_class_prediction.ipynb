{
 "cells": [
  {
   "cell_type": "markdown",
   "metadata": {},
   "source": [
    "# 構造化なデータをニューラルネットワークでの分類\n",
    "各会社に大量に埋蔵している構造化データーを利用し、新しいサービスに展開"
   ]
  },
  {
   "cell_type": "code",
   "execution_count": 1,
   "metadata": {},
   "outputs": [],
   "source": [
    "%matplotlib inline\n",
    "%reload_ext autoreload\n",
    "%autoreload 2"
   ]
  },
  {
   "cell_type": "code",
   "execution_count": 2,
   "metadata": {},
   "outputs": [],
   "source": [
    "from fastai.structured import *\n",
    "from fastai.column_data import *\n",
    "np.set_printoptions(threshold=50, edgeitems=20)\n",
    "\n",
    "PATH='data/csv/'"
   ]
  },
  {
   "cell_type": "markdown",
   "metadata": {},
   "source": [
    "# ❶データ分析 (Create datasets and Analyse data)\n"
   ]
  },
  {
   "cell_type": "markdown",
   "metadata": {},
   "source": [
    "###### 生データーをセットする "
   ]
  },
  {
   "cell_type": "code",
   "execution_count": 3,
   "metadata": {},
   "outputs": [],
   "source": [
    "table_names = ['train', 'test']"
   ]
  },
  {
   "cell_type": "code",
   "execution_count": 4,
   "metadata": {},
   "outputs": [],
   "source": [
    "tables = [pd.read_csv(f'{PATH}{fname}.csv', low_memory=False) for fname in table_names]"
   ]
  },
  {
   "cell_type": "code",
   "execution_count": 5,
   "metadata": {},
   "outputs": [],
   "source": [
    "from IPython.display import HTML"
   ]
  },
  {
   "cell_type": "markdown",
   "metadata": {},
   "source": [
    "#### データーセット確認\n",
    "\n",
    "Feature Space:\n",
    "* item_id: Unique ID\n",
    "* category_class: Item category\n",
    "* sold_price: Price when the item is sold\n",
    "* price: Price when the item is listed\n",
    "* area_name: Where the item is listed\n",
    "* condition: Item condition(Fair/Good/Like New)\n",
    "* size: Shipping size\n",
    "* listing_at: listing datetime\n",
    "* item_tag_hash: Hashed item tag\n"
   ]
  },
  {
   "cell_type": "code",
   "execution_count": 6,
   "metadata": {},
   "outputs": [
    {
     "data": {
      "text/html": [
       "<div>\n",
       "<style scoped>\n",
       "    .dataframe tbody tr th:only-of-type {\n",
       "        vertical-align: middle;\n",
       "    }\n",
       "\n",
       "    .dataframe tbody tr th {\n",
       "        vertical-align: top;\n",
       "    }\n",
       "\n",
       "    .dataframe thead th {\n",
       "        text-align: right;\n",
       "    }\n",
       "</style>\n",
       "<table border=\"1\" class=\"dataframe\">\n",
       "  <thead>\n",
       "    <tr style=\"text-align: right;\">\n",
       "      <th></th>\n",
       "      <th>item_id</th>\n",
       "      <th>category_class</th>\n",
       "      <th>sold_price</th>\n",
       "      <th>price</th>\n",
       "      <th>area_name</th>\n",
       "      <th>condition</th>\n",
       "      <th>size</th>\n",
       "      <th>listing_at</th>\n",
       "      <th>item_tag_hash</th>\n",
       "    </tr>\n",
       "  </thead>\n",
       "  <tbody>\n",
       "    <tr>\n",
       "      <th>0</th>\n",
       "      <td>7966</td>\n",
       "      <td>0.0</td>\n",
       "      <td>1164</td>\n",
       "      <td>1162</td>\n",
       "      <td>fff</td>\n",
       "      <td>Fair</td>\n",
       "      <td>7</td>\n",
       "      <td>2017-02-01 16:11:18.978516</td>\n",
       "      <td>3ca192bd7558780793444f73366c58d60c9d7775</td>\n",
       "    </tr>\n",
       "    <tr>\n",
       "      <th>1</th>\n",
       "      <td>1850</td>\n",
       "      <td>0.0</td>\n",
       "      <td>1005</td>\n",
       "      <td>1004</td>\n",
       "      <td>fff</td>\n",
       "      <td>Fair</td>\n",
       "      <td>3</td>\n",
       "      <td>2017-02-02 14:42:51.693295</td>\n",
       "      <td>fbaacb960902382e4f6c96f2d8f225c24eecadb4</td>\n",
       "    </tr>\n",
       "    <tr>\n",
       "      <th>2</th>\n",
       "      <td>7582</td>\n",
       "      <td>2.0</td>\n",
       "      <td>944</td>\n",
       "      <td>944</td>\n",
       "      <td>aaa</td>\n",
       "      <td>Fair</td>\n",
       "      <td>5</td>\n",
       "      <td>2017-02-03 01:55:53.406374</td>\n",
       "      <td>785a7925363bf133a7c5413c563f331c5e02cc69</td>\n",
       "    </tr>\n",
       "    <tr>\n",
       "      <th>3</th>\n",
       "      <td>6560</td>\n",
       "      <td>0.0</td>\n",
       "      <td>1068</td>\n",
       "      <td>1067</td>\n",
       "      <td>fff</td>\n",
       "      <td>Fair</td>\n",
       "      <td>7</td>\n",
       "      <td>2017-01-30 23:34:02.268603</td>\n",
       "      <td>f8997252c6e5ae3d950b736e1a81160a2e937a7f</td>\n",
       "    </tr>\n",
       "    <tr>\n",
       "      <th>4</th>\n",
       "      <td>7368</td>\n",
       "      <td>3.0</td>\n",
       "      <td>1407</td>\n",
       "      <td>1407</td>\n",
       "      <td>ddd</td>\n",
       "      <td>Good</td>\n",
       "      <td>15</td>\n",
       "      <td>2017-02-03 13:38:37.845010</td>\n",
       "      <td>ca59bcd3da4daac52f3fcfdc0ab963f65cf421bc</td>\n",
       "    </tr>\n",
       "  </tbody>\n",
       "</table>\n",
       "</div>"
      ],
      "text/plain": [
       "   item_id  category_class  sold_price  price area_name condition  size  \\\n",
       "0     7966             0.0        1164   1162       fff      Fair     7   \n",
       "1     1850             0.0        1005   1004       fff      Fair     3   \n",
       "2     7582             2.0         944    944       aaa      Fair     5   \n",
       "3     6560             0.0        1068   1067       fff      Fair     7   \n",
       "4     7368             3.0        1407   1407       ddd      Good    15   \n",
       "\n",
       "                   listing_at                             item_tag_hash  \n",
       "0  2017-02-01 16:11:18.978516  3ca192bd7558780793444f73366c58d60c9d7775  \n",
       "1  2017-02-02 14:42:51.693295  fbaacb960902382e4f6c96f2d8f225c24eecadb4  \n",
       "2  2017-02-03 01:55:53.406374  785a7925363bf133a7c5413c563f331c5e02cc69  \n",
       "3  2017-01-30 23:34:02.268603  f8997252c6e5ae3d950b736e1a81160a2e937a7f  \n",
       "4  2017-02-03 13:38:37.845010  ca59bcd3da4daac52f3fcfdc0ab963f65cf421bc  "
      ]
     },
     "metadata": {},
     "output_type": "display_data"
    },
    {
     "data": {
      "text/html": [
       "<div>\n",
       "<style scoped>\n",
       "    .dataframe tbody tr th:only-of-type {\n",
       "        vertical-align: middle;\n",
       "    }\n",
       "\n",
       "    .dataframe tbody tr th {\n",
       "        vertical-align: top;\n",
       "    }\n",
       "\n",
       "    .dataframe thead th {\n",
       "        text-align: right;\n",
       "    }\n",
       "</style>\n",
       "<table border=\"1\" class=\"dataframe\">\n",
       "  <thead>\n",
       "    <tr style=\"text-align: right;\">\n",
       "      <th></th>\n",
       "      <th>item_id</th>\n",
       "      <th>category_class</th>\n",
       "      <th>sold_price</th>\n",
       "      <th>price</th>\n",
       "      <th>area_name</th>\n",
       "      <th>condition</th>\n",
       "      <th>size</th>\n",
       "      <th>listing_at</th>\n",
       "      <th>item_tag_hash</th>\n",
       "    </tr>\n",
       "  </thead>\n",
       "  <tbody>\n",
       "    <tr>\n",
       "      <th>0</th>\n",
       "      <td>6000</td>\n",
       "      <td>NaN</td>\n",
       "      <td>1006</td>\n",
       "      <td>1006</td>\n",
       "      <td>aaa</td>\n",
       "      <td>Like New</td>\n",
       "      <td>4</td>\n",
       "      <td>2017-02-01 13:13:59.048372</td>\n",
       "      <td>dd01903921ea24941c26a48f2cec24e0bb0e8cc7</td>\n",
       "    </tr>\n",
       "    <tr>\n",
       "      <th>1</th>\n",
       "      <td>5532</td>\n",
       "      <td>NaN</td>\n",
       "      <td>1149</td>\n",
       "      <td>1147</td>\n",
       "      <td>fff</td>\n",
       "      <td>Fair</td>\n",
       "      <td>3</td>\n",
       "      <td>2017-02-01 08:19:21.532519</td>\n",
       "      <td>784e9240155834852dff458a730cceb50229df32</td>\n",
       "    </tr>\n",
       "    <tr>\n",
       "      <th>2</th>\n",
       "      <td>6797</td>\n",
       "      <td>NaN</td>\n",
       "      <td>1044</td>\n",
       "      <td>1042</td>\n",
       "      <td>ddd</td>\n",
       "      <td>Like New</td>\n",
       "      <td>21</td>\n",
       "      <td>2017-02-02 13:27:40.620084</td>\n",
       "      <td>7c9fe6831f52e30e0ede4f8c54fd9bba673e8d8b</td>\n",
       "    </tr>\n",
       "    <tr>\n",
       "      <th>3</th>\n",
       "      <td>3325</td>\n",
       "      <td>NaN</td>\n",
       "      <td>1547</td>\n",
       "      <td>1545</td>\n",
       "      <td>kkk</td>\n",
       "      <td>Like New</td>\n",
       "      <td>20</td>\n",
       "      <td>2017-02-02 20:59:30.470107</td>\n",
       "      <td>54c1792c99a96a96a2881600f0cce1d81061e8b8</td>\n",
       "    </tr>\n",
       "    <tr>\n",
       "      <th>4</th>\n",
       "      <td>5447</td>\n",
       "      <td>NaN</td>\n",
       "      <td>1015</td>\n",
       "      <td>1014</td>\n",
       "      <td>ddd</td>\n",
       "      <td>Like New</td>\n",
       "      <td>5</td>\n",
       "      <td>2017-01-30 17:43:31.962058</td>\n",
       "      <td>081be7c370bf9e7b4c6e696276c1b2d57623b26b</td>\n",
       "    </tr>\n",
       "  </tbody>\n",
       "</table>\n",
       "</div>"
      ],
      "text/plain": [
       "   item_id  category_class  sold_price  price area_name condition  size  \\\n",
       "0     6000             NaN        1006   1006       aaa  Like New     4   \n",
       "1     5532             NaN        1149   1147       fff      Fair     3   \n",
       "2     6797             NaN        1044   1042       ddd  Like New    21   \n",
       "3     3325             NaN        1547   1545       kkk  Like New    20   \n",
       "4     5447             NaN        1015   1014       ddd  Like New     5   \n",
       "\n",
       "                   listing_at                             item_tag_hash  \n",
       "0  2017-02-01 13:13:59.048372  dd01903921ea24941c26a48f2cec24e0bb0e8cc7  \n",
       "1  2017-02-01 08:19:21.532519  784e9240155834852dff458a730cceb50229df32  \n",
       "2  2017-02-02 13:27:40.620084  7c9fe6831f52e30e0ede4f8c54fd9bba673e8d8b  \n",
       "3  2017-02-02 20:59:30.470107  54c1792c99a96a96a2881600f0cce1d81061e8b8  \n",
       "4  2017-01-30 17:43:31.962058  081be7c370bf9e7b4c6e696276c1b2d57623b26b  "
      ]
     },
     "metadata": {},
     "output_type": "display_data"
    }
   ],
   "source": [
    "for t in tables: display(t.head())"
   ]
  },
  {
   "cell_type": "markdown",
   "metadata": {},
   "source": [
    "#### データー値に対し、属性と分布など確認と分析"
   ]
  },
  {
   "cell_type": "code",
   "execution_count": 7,
   "metadata": {},
   "outputs": [
    {
     "data": {
      "text/html": [
       "<div>\n",
       "<style scoped>\n",
       "    .dataframe tbody tr th:only-of-type {\n",
       "        vertical-align: middle;\n",
       "    }\n",
       "\n",
       "    .dataframe tbody tr th {\n",
       "        vertical-align: top;\n",
       "    }\n",
       "\n",
       "    .dataframe thead th {\n",
       "        text-align: right;\n",
       "    }\n",
       "</style>\n",
       "<table border=\"1\" class=\"dataframe\">\n",
       "  <thead>\n",
       "    <tr style=\"text-align: right;\">\n",
       "      <th></th>\n",
       "      <th>item_id</th>\n",
       "      <th>category_class</th>\n",
       "      <th>sold_price</th>\n",
       "      <th>price</th>\n",
       "      <th>area_name</th>\n",
       "      <th>condition</th>\n",
       "      <th>size</th>\n",
       "      <th>listing_at</th>\n",
       "      <th>item_tag_hash</th>\n",
       "    </tr>\n",
       "  </thead>\n",
       "  <tbody>\n",
       "    <tr>\n",
       "      <th>count</th>\n",
       "      <td>700</td>\n",
       "      <td>700</td>\n",
       "      <td>700</td>\n",
       "      <td>700</td>\n",
       "      <td>NaN</td>\n",
       "      <td>NaN</td>\n",
       "      <td>700</td>\n",
       "      <td>NaN</td>\n",
       "      <td>NaN</td>\n",
       "    </tr>\n",
       "    <tr>\n",
       "      <th>mean</th>\n",
       "      <td>5529.53</td>\n",
       "      <td>1.49857</td>\n",
       "      <td>1092.12</td>\n",
       "      <td>1118.31</td>\n",
       "      <td>NaN</td>\n",
       "      <td>NaN</td>\n",
       "      <td>9.40714</td>\n",
       "      <td>NaN</td>\n",
       "      <td>NaN</td>\n",
       "    </tr>\n",
       "    <tr>\n",
       "      <th>std</th>\n",
       "      <td>2590.82</td>\n",
       "      <td>1.35902</td>\n",
       "      <td>201.949</td>\n",
       "      <td>298.301</td>\n",
       "      <td>NaN</td>\n",
       "      <td>NaN</td>\n",
       "      <td>7.8042</td>\n",
       "      <td>NaN</td>\n",
       "      <td>NaN</td>\n",
       "    </tr>\n",
       "    <tr>\n",
       "      <th>min</th>\n",
       "      <td>1041</td>\n",
       "      <td>0</td>\n",
       "      <td>646</td>\n",
       "      <td>645</td>\n",
       "      <td>NaN</td>\n",
       "      <td>NaN</td>\n",
       "      <td>0</td>\n",
       "      <td>NaN</td>\n",
       "      <td>NaN</td>\n",
       "    </tr>\n",
       "    <tr>\n",
       "      <th>25%</th>\n",
       "      <td>3309.25</td>\n",
       "      <td>0</td>\n",
       "      <td>948.75</td>\n",
       "      <td>948</td>\n",
       "      <td>NaN</td>\n",
       "      <td>NaN</td>\n",
       "      <td>4</td>\n",
       "      <td>NaN</td>\n",
       "      <td>NaN</td>\n",
       "    </tr>\n",
       "    <tr>\n",
       "      <th>50%</th>\n",
       "      <td>5556.5</td>\n",
       "      <td>1</td>\n",
       "      <td>1059</td>\n",
       "      <td>1058</td>\n",
       "      <td>NaN</td>\n",
       "      <td>NaN</td>\n",
       "      <td>7</td>\n",
       "      <td>NaN</td>\n",
       "      <td>NaN</td>\n",
       "    </tr>\n",
       "    <tr>\n",
       "      <th>75%</th>\n",
       "      <td>7617.5</td>\n",
       "      <td>2</td>\n",
       "      <td>1188.25</td>\n",
       "      <td>1193.75</td>\n",
       "      <td>NaN</td>\n",
       "      <td>NaN</td>\n",
       "      <td>12</td>\n",
       "      <td>NaN</td>\n",
       "      <td>NaN</td>\n",
       "    </tr>\n",
       "    <tr>\n",
       "      <th>max</th>\n",
       "      <td>9990</td>\n",
       "      <td>4</td>\n",
       "      <td>1874</td>\n",
       "      <td>3181</td>\n",
       "      <td>NaN</td>\n",
       "      <td>NaN</td>\n",
       "      <td>59</td>\n",
       "      <td>NaN</td>\n",
       "      <td>NaN</td>\n",
       "    </tr>\n",
       "    <tr>\n",
       "      <th>counts</th>\n",
       "      <td>700</td>\n",
       "      <td>700</td>\n",
       "      <td>700</td>\n",
       "      <td>700</td>\n",
       "      <td>700</td>\n",
       "      <td>700</td>\n",
       "      <td>700</td>\n",
       "      <td>700</td>\n",
       "      <td>700</td>\n",
       "    </tr>\n",
       "    <tr>\n",
       "      <th>uniques</th>\n",
       "      <td>700</td>\n",
       "      <td>5</td>\n",
       "      <td>453</td>\n",
       "      <td>446</td>\n",
       "      <td>10</td>\n",
       "      <td>3</td>\n",
       "      <td>41</td>\n",
       "      <td>700</td>\n",
       "      <td>188</td>\n",
       "    </tr>\n",
       "    <tr>\n",
       "      <th>missing</th>\n",
       "      <td>0</td>\n",
       "      <td>0</td>\n",
       "      <td>0</td>\n",
       "      <td>0</td>\n",
       "      <td>0</td>\n",
       "      <td>0</td>\n",
       "      <td>0</td>\n",
       "      <td>0</td>\n",
       "      <td>0</td>\n",
       "    </tr>\n",
       "    <tr>\n",
       "      <th>missing_perc</th>\n",
       "      <td>0%</td>\n",
       "      <td>0%</td>\n",
       "      <td>0%</td>\n",
       "      <td>0%</td>\n",
       "      <td>0%</td>\n",
       "      <td>0%</td>\n",
       "      <td>0%</td>\n",
       "      <td>0%</td>\n",
       "      <td>0%</td>\n",
       "    </tr>\n",
       "    <tr>\n",
       "      <th>types</th>\n",
       "      <td>numeric</td>\n",
       "      <td>numeric</td>\n",
       "      <td>numeric</td>\n",
       "      <td>numeric</td>\n",
       "      <td>categorical</td>\n",
       "      <td>categorical</td>\n",
       "      <td>numeric</td>\n",
       "      <td>unique</td>\n",
       "      <td>categorical</td>\n",
       "    </tr>\n",
       "  </tbody>\n",
       "</table>\n",
       "</div>"
      ],
      "text/plain": [
       "              item_id category_class sold_price    price    area_name  \\\n",
       "count             700            700        700      700          NaN   \n",
       "mean          5529.53        1.49857    1092.12  1118.31          NaN   \n",
       "std           2590.82        1.35902    201.949  298.301          NaN   \n",
       "min              1041              0        646      645          NaN   \n",
       "25%           3309.25              0     948.75      948          NaN   \n",
       "50%            5556.5              1       1059     1058          NaN   \n",
       "75%            7617.5              2    1188.25  1193.75          NaN   \n",
       "max              9990              4       1874     3181          NaN   \n",
       "counts            700            700        700      700          700   \n",
       "uniques           700              5        453      446           10   \n",
       "missing             0              0          0        0            0   \n",
       "missing_perc       0%             0%         0%       0%           0%   \n",
       "types         numeric        numeric    numeric  numeric  categorical   \n",
       "\n",
       "                condition     size listing_at item_tag_hash  \n",
       "count                 NaN      700        NaN           NaN  \n",
       "mean                  NaN  9.40714        NaN           NaN  \n",
       "std                   NaN   7.8042        NaN           NaN  \n",
       "min                   NaN        0        NaN           NaN  \n",
       "25%                   NaN        4        NaN           NaN  \n",
       "50%                   NaN        7        NaN           NaN  \n",
       "75%                   NaN       12        NaN           NaN  \n",
       "max                   NaN       59        NaN           NaN  \n",
       "counts                700      700        700           700  \n",
       "uniques                 3       41        700           188  \n",
       "missing                 0        0          0             0  \n",
       "missing_perc           0%       0%         0%            0%  \n",
       "types         categorical  numeric     unique   categorical  "
      ]
     },
     "metadata": {},
     "output_type": "display_data"
    },
    {
     "data": {
      "text/html": [
       "<div>\n",
       "<style scoped>\n",
       "    .dataframe tbody tr th:only-of-type {\n",
       "        vertical-align: middle;\n",
       "    }\n",
       "\n",
       "    .dataframe tbody tr th {\n",
       "        vertical-align: top;\n",
       "    }\n",
       "\n",
       "    .dataframe thead th {\n",
       "        text-align: right;\n",
       "    }\n",
       "</style>\n",
       "<table border=\"1\" class=\"dataframe\">\n",
       "  <thead>\n",
       "    <tr style=\"text-align: right;\">\n",
       "      <th></th>\n",
       "      <th>item_id</th>\n",
       "      <th>category_class</th>\n",
       "      <th>sold_price</th>\n",
       "      <th>price</th>\n",
       "      <th>area_name</th>\n",
       "      <th>condition</th>\n",
       "      <th>size</th>\n",
       "      <th>listing_at</th>\n",
       "      <th>item_tag_hash</th>\n",
       "    </tr>\n",
       "  </thead>\n",
       "  <tbody>\n",
       "    <tr>\n",
       "      <th>count</th>\n",
       "      <td>300</td>\n",
       "      <td>0</td>\n",
       "      <td>300</td>\n",
       "      <td>300</td>\n",
       "      <td>NaN</td>\n",
       "      <td>NaN</td>\n",
       "      <td>300</td>\n",
       "      <td>NaN</td>\n",
       "      <td>NaN</td>\n",
       "    </tr>\n",
       "    <tr>\n",
       "      <th>mean</th>\n",
       "      <td>5455.23</td>\n",
       "      <td>NaN</td>\n",
       "      <td>1099.69</td>\n",
       "      <td>1104.9</td>\n",
       "      <td>NaN</td>\n",
       "      <td>NaN</td>\n",
       "      <td>9.34333</td>\n",
       "      <td>NaN</td>\n",
       "      <td>NaN</td>\n",
       "    </tr>\n",
       "    <tr>\n",
       "      <th>std</th>\n",
       "      <td>2638.17</td>\n",
       "      <td>NaN</td>\n",
       "      <td>214.623</td>\n",
       "      <td>235.455</td>\n",
       "      <td>NaN</td>\n",
       "      <td>NaN</td>\n",
       "      <td>7.8786</td>\n",
       "      <td>NaN</td>\n",
       "      <td>NaN</td>\n",
       "    </tr>\n",
       "    <tr>\n",
       "      <th>min</th>\n",
       "      <td>1006</td>\n",
       "      <td>NaN</td>\n",
       "      <td>685</td>\n",
       "      <td>684</td>\n",
       "      <td>NaN</td>\n",
       "      <td>NaN</td>\n",
       "      <td>0</td>\n",
       "      <td>NaN</td>\n",
       "      <td>NaN</td>\n",
       "    </tr>\n",
       "    <tr>\n",
       "      <th>25%</th>\n",
       "      <td>3090.75</td>\n",
       "      <td>NaN</td>\n",
       "      <td>962.75</td>\n",
       "      <td>961.75</td>\n",
       "      <td>NaN</td>\n",
       "      <td>NaN</td>\n",
       "      <td>4</td>\n",
       "      <td>NaN</td>\n",
       "      <td>NaN</td>\n",
       "    </tr>\n",
       "    <tr>\n",
       "      <th>50%</th>\n",
       "      <td>5389</td>\n",
       "      <td>NaN</td>\n",
       "      <td>1051</td>\n",
       "      <td>1050.5</td>\n",
       "      <td>NaN</td>\n",
       "      <td>NaN</td>\n",
       "      <td>7</td>\n",
       "      <td>NaN</td>\n",
       "      <td>NaN</td>\n",
       "    </tr>\n",
       "    <tr>\n",
       "      <th>75%</th>\n",
       "      <td>7683.75</td>\n",
       "      <td>NaN</td>\n",
       "      <td>1198</td>\n",
       "      <td>1196.25</td>\n",
       "      <td>NaN</td>\n",
       "      <td>NaN</td>\n",
       "      <td>13</td>\n",
       "      <td>NaN</td>\n",
       "      <td>NaN</td>\n",
       "    </tr>\n",
       "    <tr>\n",
       "      <th>max</th>\n",
       "      <td>9981</td>\n",
       "      <td>NaN</td>\n",
       "      <td>1700</td>\n",
       "      <td>2570</td>\n",
       "      <td>NaN</td>\n",
       "      <td>NaN</td>\n",
       "      <td>40</td>\n",
       "      <td>NaN</td>\n",
       "      <td>NaN</td>\n",
       "    </tr>\n",
       "    <tr>\n",
       "      <th>counts</th>\n",
       "      <td>300</td>\n",
       "      <td>0</td>\n",
       "      <td>300</td>\n",
       "      <td>300</td>\n",
       "      <td>300</td>\n",
       "      <td>300</td>\n",
       "      <td>300</td>\n",
       "      <td>300</td>\n",
       "      <td>300</td>\n",
       "    </tr>\n",
       "    <tr>\n",
       "      <th>uniques</th>\n",
       "      <td>300</td>\n",
       "      <td>0</td>\n",
       "      <td>245</td>\n",
       "      <td>243</td>\n",
       "      <td>10</td>\n",
       "      <td>3</td>\n",
       "      <td>33</td>\n",
       "      <td>300</td>\n",
       "      <td>146</td>\n",
       "    </tr>\n",
       "    <tr>\n",
       "      <th>missing</th>\n",
       "      <td>0</td>\n",
       "      <td>300</td>\n",
       "      <td>0</td>\n",
       "      <td>0</td>\n",
       "      <td>0</td>\n",
       "      <td>0</td>\n",
       "      <td>0</td>\n",
       "      <td>0</td>\n",
       "      <td>0</td>\n",
       "    </tr>\n",
       "    <tr>\n",
       "      <th>missing_perc</th>\n",
       "      <td>0%</td>\n",
       "      <td>100%</td>\n",
       "      <td>0%</td>\n",
       "      <td>0%</td>\n",
       "      <td>0%</td>\n",
       "      <td>0%</td>\n",
       "      <td>0%</td>\n",
       "      <td>0%</td>\n",
       "      <td>0%</td>\n",
       "    </tr>\n",
       "    <tr>\n",
       "      <th>types</th>\n",
       "      <td>numeric</td>\n",
       "      <td>numeric</td>\n",
       "      <td>numeric</td>\n",
       "      <td>numeric</td>\n",
       "      <td>categorical</td>\n",
       "      <td>categorical</td>\n",
       "      <td>numeric</td>\n",
       "      <td>unique</td>\n",
       "      <td>categorical</td>\n",
       "    </tr>\n",
       "  </tbody>\n",
       "</table>\n",
       "</div>"
      ],
      "text/plain": [
       "              item_id category_class sold_price    price    area_name  \\\n",
       "count             300              0        300      300          NaN   \n",
       "mean          5455.23            NaN    1099.69   1104.9          NaN   \n",
       "std           2638.17            NaN    214.623  235.455          NaN   \n",
       "min              1006            NaN        685      684          NaN   \n",
       "25%           3090.75            NaN     962.75   961.75          NaN   \n",
       "50%              5389            NaN       1051   1050.5          NaN   \n",
       "75%           7683.75            NaN       1198  1196.25          NaN   \n",
       "max              9981            NaN       1700     2570          NaN   \n",
       "counts            300              0        300      300          300   \n",
       "uniques           300              0        245      243           10   \n",
       "missing             0            300          0        0            0   \n",
       "missing_perc       0%           100%         0%       0%           0%   \n",
       "types         numeric        numeric    numeric  numeric  categorical   \n",
       "\n",
       "                condition     size listing_at item_tag_hash  \n",
       "count                 NaN      300        NaN           NaN  \n",
       "mean                  NaN  9.34333        NaN           NaN  \n",
       "std                   NaN   7.8786        NaN           NaN  \n",
       "min                   NaN        0        NaN           NaN  \n",
       "25%                   NaN        4        NaN           NaN  \n",
       "50%                   NaN        7        NaN           NaN  \n",
       "75%                   NaN       13        NaN           NaN  \n",
       "max                   NaN       40        NaN           NaN  \n",
       "counts                300      300        300           300  \n",
       "uniques                 3       33        300           146  \n",
       "missing                 0        0          0             0  \n",
       "missing_perc           0%       0%         0%            0%  \n",
       "types         categorical  numeric     unique   categorical  "
      ]
     },
     "metadata": {},
     "output_type": "display_data"
    }
   ],
   "source": [
    "for t in tables: display(DataFrameSummary(t).summary())"
   ]
  },
  {
   "cell_type": "markdown",
   "metadata": {},
   "source": [
    "# ❷特徴抽出/特徴エンジニアリング (Data Preprocessing / Feature Engineering)\n",
    "\n",
    "#### ニューラルネットワークの処理するため、Pandas を利用してデーターを前処理する\n",
    "Hash data column should be droped. it is not uesful for the item classification.\n",
    "\n",
    "and should test the time feature for performance of prediction."
   ]
  },
  {
   "cell_type": "code",
   "execution_count": 8,
   "metadata": {},
   "outputs": [],
   "source": [
    "train,test = tables"
   ]
  },
  {
   "cell_type": "code",
   "execution_count": 9,
   "metadata": {},
   "outputs": [
    {
     "data": {
      "text/plain": [
       "(700, 300)"
      ]
     },
     "execution_count": 9,
     "metadata": {},
     "output_type": "execute_result"
    }
   ],
   "source": [
    "len(train),len(test)"
   ]
  },
  {
   "cell_type": "code",
   "execution_count": 10,
   "metadata": {},
   "outputs": [],
   "source": [
    "for df in (train,test):\n",
    "    df[\"size\"]=df[\"size\"]+.0001\n",
    "train.category_class = train.category_class.astype(int)"
   ]
  },
  {
   "cell_type": "code",
   "execution_count": 11,
   "metadata": {},
   "outputs": [
    {
     "data": {
      "text/html": [
       "<div>\n",
       "<style scoped>\n",
       "    .dataframe tbody tr th:only-of-type {\n",
       "        vertical-align: middle;\n",
       "    }\n",
       "\n",
       "    .dataframe tbody tr th {\n",
       "        vertical-align: top;\n",
       "    }\n",
       "\n",
       "    .dataframe thead th {\n",
       "        text-align: right;\n",
       "    }\n",
       "</style>\n",
       "<table border=\"1\" class=\"dataframe\">\n",
       "  <thead>\n",
       "    <tr style=\"text-align: right;\">\n",
       "      <th></th>\n",
       "      <th>0</th>\n",
       "      <th>1</th>\n",
       "      <th>2</th>\n",
       "      <th>3</th>\n",
       "      <th>4</th>\n",
       "    </tr>\n",
       "  </thead>\n",
       "  <tbody>\n",
       "    <tr>\n",
       "      <th>item_id</th>\n",
       "      <td>7966</td>\n",
       "      <td>1850</td>\n",
       "      <td>7582</td>\n",
       "      <td>6560</td>\n",
       "      <td>7368</td>\n",
       "    </tr>\n",
       "    <tr>\n",
       "      <th>category_class</th>\n",
       "      <td>0</td>\n",
       "      <td>0</td>\n",
       "      <td>2</td>\n",
       "      <td>0</td>\n",
       "      <td>3</td>\n",
       "    </tr>\n",
       "    <tr>\n",
       "      <th>sold_price</th>\n",
       "      <td>1164</td>\n",
       "      <td>1005</td>\n",
       "      <td>944</td>\n",
       "      <td>1068</td>\n",
       "      <td>1407</td>\n",
       "    </tr>\n",
       "    <tr>\n",
       "      <th>price</th>\n",
       "      <td>1162</td>\n",
       "      <td>1004</td>\n",
       "      <td>944</td>\n",
       "      <td>1067</td>\n",
       "      <td>1407</td>\n",
       "    </tr>\n",
       "    <tr>\n",
       "      <th>area_name</th>\n",
       "      <td>fff</td>\n",
       "      <td>fff</td>\n",
       "      <td>aaa</td>\n",
       "      <td>fff</td>\n",
       "      <td>ddd</td>\n",
       "    </tr>\n",
       "    <tr>\n",
       "      <th>condition</th>\n",
       "      <td>Fair</td>\n",
       "      <td>Fair</td>\n",
       "      <td>Fair</td>\n",
       "      <td>Fair</td>\n",
       "      <td>Good</td>\n",
       "    </tr>\n",
       "    <tr>\n",
       "      <th>size</th>\n",
       "      <td>7.0001</td>\n",
       "      <td>3.0001</td>\n",
       "      <td>5.0001</td>\n",
       "      <td>7.0001</td>\n",
       "      <td>15.0001</td>\n",
       "    </tr>\n",
       "    <tr>\n",
       "      <th>listing_at</th>\n",
       "      <td>2017-02-01 16:11:18.978516</td>\n",
       "      <td>2017-02-02 14:42:51.693295</td>\n",
       "      <td>2017-02-03 01:55:53.406374</td>\n",
       "      <td>2017-01-30 23:34:02.268603</td>\n",
       "      <td>2017-02-03 13:38:37.845010</td>\n",
       "    </tr>\n",
       "    <tr>\n",
       "      <th>item_tag_hash</th>\n",
       "      <td>3ca192bd7558780793444f73366c58d60c9d7775</td>\n",
       "      <td>fbaacb960902382e4f6c96f2d8f225c24eecadb4</td>\n",
       "      <td>785a7925363bf133a7c5413c563f331c5e02cc69</td>\n",
       "      <td>f8997252c6e5ae3d950b736e1a81160a2e937a7f</td>\n",
       "      <td>ca59bcd3da4daac52f3fcfdc0ab963f65cf421bc</td>\n",
       "    </tr>\n",
       "  </tbody>\n",
       "</table>\n",
       "</div>"
      ],
      "text/plain": [
       "                                                       0  \\\n",
       "item_id                                             7966   \n",
       "category_class                                         0   \n",
       "sold_price                                          1164   \n",
       "price                                               1162   \n",
       "area_name                                            fff   \n",
       "condition                                           Fair   \n",
       "size                                              7.0001   \n",
       "listing_at                    2017-02-01 16:11:18.978516   \n",
       "item_tag_hash   3ca192bd7558780793444f73366c58d60c9d7775   \n",
       "\n",
       "                                                       1  \\\n",
       "item_id                                             1850   \n",
       "category_class                                         0   \n",
       "sold_price                                          1005   \n",
       "price                                               1004   \n",
       "area_name                                            fff   \n",
       "condition                                           Fair   \n",
       "size                                              3.0001   \n",
       "listing_at                    2017-02-02 14:42:51.693295   \n",
       "item_tag_hash   fbaacb960902382e4f6c96f2d8f225c24eecadb4   \n",
       "\n",
       "                                                       2  \\\n",
       "item_id                                             7582   \n",
       "category_class                                         2   \n",
       "sold_price                                           944   \n",
       "price                                                944   \n",
       "area_name                                            aaa   \n",
       "condition                                           Fair   \n",
       "size                                              5.0001   \n",
       "listing_at                    2017-02-03 01:55:53.406374   \n",
       "item_tag_hash   785a7925363bf133a7c5413c563f331c5e02cc69   \n",
       "\n",
       "                                                       3  \\\n",
       "item_id                                             6560   \n",
       "category_class                                         0   \n",
       "sold_price                                          1068   \n",
       "price                                               1067   \n",
       "area_name                                            fff   \n",
       "condition                                           Fair   \n",
       "size                                              7.0001   \n",
       "listing_at                    2017-01-30 23:34:02.268603   \n",
       "item_tag_hash   f8997252c6e5ae3d950b736e1a81160a2e937a7f   \n",
       "\n",
       "                                                       4  \n",
       "item_id                                             7368  \n",
       "category_class                                         3  \n",
       "sold_price                                          1407  \n",
       "price                                               1407  \n",
       "area_name                                            ddd  \n",
       "condition                                           Good  \n",
       "size                                             15.0001  \n",
       "listing_at                    2017-02-03 13:38:37.845010  \n",
       "item_tag_hash   ca59bcd3da4daac52f3fcfdc0ab963f65cf421bc  "
      ]
     },
     "execution_count": 11,
     "metadata": {},
     "output_type": "execute_result"
    }
   ],
   "source": [
    "train.head().T.head(40)"
   ]
  },
  {
   "cell_type": "code",
   "execution_count": 12,
   "metadata": {},
   "outputs": [
    {
     "data": {
      "text/html": [
       "<div>\n",
       "<style scoped>\n",
       "    .dataframe tbody tr th:only-of-type {\n",
       "        vertical-align: middle;\n",
       "    }\n",
       "\n",
       "    .dataframe tbody tr th {\n",
       "        vertical-align: top;\n",
       "    }\n",
       "\n",
       "    .dataframe thead th {\n",
       "        text-align: right;\n",
       "    }\n",
       "</style>\n",
       "<table border=\"1\" class=\"dataframe\">\n",
       "  <thead>\n",
       "    <tr style=\"text-align: right;\">\n",
       "      <th></th>\n",
       "      <th>item_id</th>\n",
       "      <th>category_class</th>\n",
       "      <th>sold_price</th>\n",
       "      <th>price</th>\n",
       "      <th>area_name</th>\n",
       "      <th>condition</th>\n",
       "      <th>size</th>\n",
       "      <th>listing_at</th>\n",
       "      <th>item_tag_hash</th>\n",
       "    </tr>\n",
       "  </thead>\n",
       "  <tbody>\n",
       "    <tr>\n",
       "      <th>count</th>\n",
       "      <td>700</td>\n",
       "      <td>700</td>\n",
       "      <td>700</td>\n",
       "      <td>700</td>\n",
       "      <td>NaN</td>\n",
       "      <td>NaN</td>\n",
       "      <td>700</td>\n",
       "      <td>NaN</td>\n",
       "      <td>NaN</td>\n",
       "    </tr>\n",
       "    <tr>\n",
       "      <th>mean</th>\n",
       "      <td>5529.53</td>\n",
       "      <td>1.49857</td>\n",
       "      <td>1092.12</td>\n",
       "      <td>1118.31</td>\n",
       "      <td>NaN</td>\n",
       "      <td>NaN</td>\n",
       "      <td>9.40724</td>\n",
       "      <td>NaN</td>\n",
       "      <td>NaN</td>\n",
       "    </tr>\n",
       "    <tr>\n",
       "      <th>std</th>\n",
       "      <td>2590.82</td>\n",
       "      <td>1.35902</td>\n",
       "      <td>201.949</td>\n",
       "      <td>298.301</td>\n",
       "      <td>NaN</td>\n",
       "      <td>NaN</td>\n",
       "      <td>7.8042</td>\n",
       "      <td>NaN</td>\n",
       "      <td>NaN</td>\n",
       "    </tr>\n",
       "    <tr>\n",
       "      <th>min</th>\n",
       "      <td>1041</td>\n",
       "      <td>0</td>\n",
       "      <td>646</td>\n",
       "      <td>645</td>\n",
       "      <td>NaN</td>\n",
       "      <td>NaN</td>\n",
       "      <td>0.0001</td>\n",
       "      <td>NaN</td>\n",
       "      <td>NaN</td>\n",
       "    </tr>\n",
       "    <tr>\n",
       "      <th>25%</th>\n",
       "      <td>3309.25</td>\n",
       "      <td>0</td>\n",
       "      <td>948.75</td>\n",
       "      <td>948</td>\n",
       "      <td>NaN</td>\n",
       "      <td>NaN</td>\n",
       "      <td>4.0001</td>\n",
       "      <td>NaN</td>\n",
       "      <td>NaN</td>\n",
       "    </tr>\n",
       "    <tr>\n",
       "      <th>50%</th>\n",
       "      <td>5556.5</td>\n",
       "      <td>1</td>\n",
       "      <td>1059</td>\n",
       "      <td>1058</td>\n",
       "      <td>NaN</td>\n",
       "      <td>NaN</td>\n",
       "      <td>7.0001</td>\n",
       "      <td>NaN</td>\n",
       "      <td>NaN</td>\n",
       "    </tr>\n",
       "    <tr>\n",
       "      <th>75%</th>\n",
       "      <td>7617.5</td>\n",
       "      <td>2</td>\n",
       "      <td>1188.25</td>\n",
       "      <td>1193.75</td>\n",
       "      <td>NaN</td>\n",
       "      <td>NaN</td>\n",
       "      <td>12.0001</td>\n",
       "      <td>NaN</td>\n",
       "      <td>NaN</td>\n",
       "    </tr>\n",
       "    <tr>\n",
       "      <th>max</th>\n",
       "      <td>9990</td>\n",
       "      <td>4</td>\n",
       "      <td>1874</td>\n",
       "      <td>3181</td>\n",
       "      <td>NaN</td>\n",
       "      <td>NaN</td>\n",
       "      <td>59.0001</td>\n",
       "      <td>NaN</td>\n",
       "      <td>NaN</td>\n",
       "    </tr>\n",
       "    <tr>\n",
       "      <th>counts</th>\n",
       "      <td>700</td>\n",
       "      <td>700</td>\n",
       "      <td>700</td>\n",
       "      <td>700</td>\n",
       "      <td>700</td>\n",
       "      <td>700</td>\n",
       "      <td>700</td>\n",
       "      <td>700</td>\n",
       "      <td>700</td>\n",
       "    </tr>\n",
       "    <tr>\n",
       "      <th>uniques</th>\n",
       "      <td>700</td>\n",
       "      <td>5</td>\n",
       "      <td>453</td>\n",
       "      <td>446</td>\n",
       "      <td>10</td>\n",
       "      <td>3</td>\n",
       "      <td>41</td>\n",
       "      <td>700</td>\n",
       "      <td>188</td>\n",
       "    </tr>\n",
       "    <tr>\n",
       "      <th>missing</th>\n",
       "      <td>0</td>\n",
       "      <td>0</td>\n",
       "      <td>0</td>\n",
       "      <td>0</td>\n",
       "      <td>0</td>\n",
       "      <td>0</td>\n",
       "      <td>0</td>\n",
       "      <td>0</td>\n",
       "      <td>0</td>\n",
       "    </tr>\n",
       "    <tr>\n",
       "      <th>missing_perc</th>\n",
       "      <td>0%</td>\n",
       "      <td>0%</td>\n",
       "      <td>0%</td>\n",
       "      <td>0%</td>\n",
       "      <td>0%</td>\n",
       "      <td>0%</td>\n",
       "      <td>0%</td>\n",
       "      <td>0%</td>\n",
       "      <td>0%</td>\n",
       "    </tr>\n",
       "    <tr>\n",
       "      <th>types</th>\n",
       "      <td>numeric</td>\n",
       "      <td>numeric</td>\n",
       "      <td>numeric</td>\n",
       "      <td>numeric</td>\n",
       "      <td>categorical</td>\n",
       "      <td>categorical</td>\n",
       "      <td>numeric</td>\n",
       "      <td>unique</td>\n",
       "      <td>categorical</td>\n",
       "    </tr>\n",
       "  </tbody>\n",
       "</table>\n",
       "</div>"
      ],
      "text/plain": [
       "              item_id category_class sold_price    price    area_name  \\\n",
       "count             700            700        700      700          NaN   \n",
       "mean          5529.53        1.49857    1092.12  1118.31          NaN   \n",
       "std           2590.82        1.35902    201.949  298.301          NaN   \n",
       "min              1041              0        646      645          NaN   \n",
       "25%           3309.25              0     948.75      948          NaN   \n",
       "50%            5556.5              1       1059     1058          NaN   \n",
       "75%            7617.5              2    1188.25  1193.75          NaN   \n",
       "max              9990              4       1874     3181          NaN   \n",
       "counts            700            700        700      700          700   \n",
       "uniques           700              5        453      446           10   \n",
       "missing             0              0          0        0            0   \n",
       "missing_perc       0%             0%         0%       0%           0%   \n",
       "types         numeric        numeric    numeric  numeric  categorical   \n",
       "\n",
       "                condition     size listing_at item_tag_hash  \n",
       "count                 NaN      700        NaN           NaN  \n",
       "mean                  NaN  9.40724        NaN           NaN  \n",
       "std                   NaN   7.8042        NaN           NaN  \n",
       "min                   NaN   0.0001        NaN           NaN  \n",
       "25%                   NaN   4.0001        NaN           NaN  \n",
       "50%                   NaN   7.0001        NaN           NaN  \n",
       "75%                   NaN  12.0001        NaN           NaN  \n",
       "max                   NaN  59.0001        NaN           NaN  \n",
       "counts                700      700        700           700  \n",
       "uniques                 3       41        700           188  \n",
       "missing                 0        0          0             0  \n",
       "missing_perc           0%       0%         0%            0%  \n",
       "types         categorical  numeric     unique   categorical  "
      ]
     },
     "metadata": {},
     "output_type": "display_data"
    }
   ],
   "source": [
    "display(DataFrameSummary(train).summary())"
   ]
  },
  {
   "cell_type": "code",
   "execution_count": 13,
   "metadata": {},
   "outputs": [
    {
     "data": {
      "text/html": [
       "<div>\n",
       "<style scoped>\n",
       "    .dataframe tbody tr th:only-of-type {\n",
       "        vertical-align: middle;\n",
       "    }\n",
       "\n",
       "    .dataframe tbody tr th {\n",
       "        vertical-align: top;\n",
       "    }\n",
       "\n",
       "    .dataframe thead th {\n",
       "        text-align: right;\n",
       "    }\n",
       "</style>\n",
       "<table border=\"1\" class=\"dataframe\">\n",
       "  <thead>\n",
       "    <tr style=\"text-align: right;\">\n",
       "      <th></th>\n",
       "      <th>0</th>\n",
       "      <th>1</th>\n",
       "      <th>2</th>\n",
       "      <th>3</th>\n",
       "      <th>4</th>\n",
       "    </tr>\n",
       "  </thead>\n",
       "  <tbody>\n",
       "    <tr>\n",
       "      <th>item_id</th>\n",
       "      <td>6000</td>\n",
       "      <td>5532</td>\n",
       "      <td>6797</td>\n",
       "      <td>3325</td>\n",
       "      <td>5447</td>\n",
       "    </tr>\n",
       "    <tr>\n",
       "      <th>category_class</th>\n",
       "      <td>NaN</td>\n",
       "      <td>NaN</td>\n",
       "      <td>NaN</td>\n",
       "      <td>NaN</td>\n",
       "      <td>NaN</td>\n",
       "    </tr>\n",
       "    <tr>\n",
       "      <th>sold_price</th>\n",
       "      <td>1006</td>\n",
       "      <td>1149</td>\n",
       "      <td>1044</td>\n",
       "      <td>1547</td>\n",
       "      <td>1015</td>\n",
       "    </tr>\n",
       "    <tr>\n",
       "      <th>price</th>\n",
       "      <td>1006</td>\n",
       "      <td>1147</td>\n",
       "      <td>1042</td>\n",
       "      <td>1545</td>\n",
       "      <td>1014</td>\n",
       "    </tr>\n",
       "    <tr>\n",
       "      <th>area_name</th>\n",
       "      <td>aaa</td>\n",
       "      <td>fff</td>\n",
       "      <td>ddd</td>\n",
       "      <td>kkk</td>\n",
       "      <td>ddd</td>\n",
       "    </tr>\n",
       "    <tr>\n",
       "      <th>condition</th>\n",
       "      <td>Like New</td>\n",
       "      <td>Fair</td>\n",
       "      <td>Like New</td>\n",
       "      <td>Like New</td>\n",
       "      <td>Like New</td>\n",
       "    </tr>\n",
       "    <tr>\n",
       "      <th>size</th>\n",
       "      <td>4.0001</td>\n",
       "      <td>3.0001</td>\n",
       "      <td>21.0001</td>\n",
       "      <td>20.0001</td>\n",
       "      <td>5.0001</td>\n",
       "    </tr>\n",
       "    <tr>\n",
       "      <th>listing_at</th>\n",
       "      <td>2017-02-01 13:13:59.048372</td>\n",
       "      <td>2017-02-01 08:19:21.532519</td>\n",
       "      <td>2017-02-02 13:27:40.620084</td>\n",
       "      <td>2017-02-02 20:59:30.470107</td>\n",
       "      <td>2017-01-30 17:43:31.962058</td>\n",
       "    </tr>\n",
       "    <tr>\n",
       "      <th>item_tag_hash</th>\n",
       "      <td>dd01903921ea24941c26a48f2cec24e0bb0e8cc7</td>\n",
       "      <td>784e9240155834852dff458a730cceb50229df32</td>\n",
       "      <td>7c9fe6831f52e30e0ede4f8c54fd9bba673e8d8b</td>\n",
       "      <td>54c1792c99a96a96a2881600f0cce1d81061e8b8</td>\n",
       "      <td>081be7c370bf9e7b4c6e696276c1b2d57623b26b</td>\n",
       "    </tr>\n",
       "  </tbody>\n",
       "</table>\n",
       "</div>"
      ],
      "text/plain": [
       "                                                       0  \\\n",
       "item_id                                             6000   \n",
       "category_class                                       NaN   \n",
       "sold_price                                          1006   \n",
       "price                                               1006   \n",
       "area_name                                            aaa   \n",
       "condition                                       Like New   \n",
       "size                                              4.0001   \n",
       "listing_at                    2017-02-01 13:13:59.048372   \n",
       "item_tag_hash   dd01903921ea24941c26a48f2cec24e0bb0e8cc7   \n",
       "\n",
       "                                                       1  \\\n",
       "item_id                                             5532   \n",
       "category_class                                       NaN   \n",
       "sold_price                                          1149   \n",
       "price                                               1147   \n",
       "area_name                                            fff   \n",
       "condition                                           Fair   \n",
       "size                                              3.0001   \n",
       "listing_at                    2017-02-01 08:19:21.532519   \n",
       "item_tag_hash   784e9240155834852dff458a730cceb50229df32   \n",
       "\n",
       "                                                       2  \\\n",
       "item_id                                             6797   \n",
       "category_class                                       NaN   \n",
       "sold_price                                          1044   \n",
       "price                                               1042   \n",
       "area_name                                            ddd   \n",
       "condition                                       Like New   \n",
       "size                                             21.0001   \n",
       "listing_at                    2017-02-02 13:27:40.620084   \n",
       "item_tag_hash   7c9fe6831f52e30e0ede4f8c54fd9bba673e8d8b   \n",
       "\n",
       "                                                       3  \\\n",
       "item_id                                             3325   \n",
       "category_class                                       NaN   \n",
       "sold_price                                          1547   \n",
       "price                                               1545   \n",
       "area_name                                            kkk   \n",
       "condition                                       Like New   \n",
       "size                                             20.0001   \n",
       "listing_at                    2017-02-02 20:59:30.470107   \n",
       "item_tag_hash   54c1792c99a96a96a2881600f0cce1d81061e8b8   \n",
       "\n",
       "                                                       4  \n",
       "item_id                                             5447  \n",
       "category_class                                       NaN  \n",
       "sold_price                                          1015  \n",
       "price                                               1014  \n",
       "area_name                                            ddd  \n",
       "condition                                       Like New  \n",
       "size                                              5.0001  \n",
       "listing_at                    2017-01-30 17:43:31.962058  \n",
       "item_tag_hash   081be7c370bf9e7b4c6e696276c1b2d57623b26b  "
      ]
     },
     "execution_count": 13,
     "metadata": {},
     "output_type": "execute_result"
    }
   ],
   "source": [
    "test.head().T.head(40)"
   ]
  },
  {
   "cell_type": "markdown",
   "metadata": {},
   "source": [
    "#### 今度はすべての特徴をエンジニアリングし、ニューラルネットワークと互換性のある入力に変換する必要があります。\n",
    "##### 例えば：カテゴリ変数を連続した整数に変換し、連続する特徴データーを標準のノーマルに正規化するなど\n",
    "\n",
    "##### カテゴリ変数と連続変数を識別し、 item_idは各行の識別子として機能します。"
   ]
  },
  {
   "cell_type": "code",
   "execution_count": 14,
   "metadata": {},
   "outputs": [],
   "source": [
    "cat_vars = ['area_name', 'condition']\n",
    "drop_vars = ['listing_at','item_tag_hash']\n",
    "contin_vars = ['sold_price', 'price', 'size']\n",
    "index = 'item_id'\n",
    "n = len(train); n\n",
    "for df in (test,train):\n",
    "    df.set_index(index)\n"
   ]
  },
  {
   "cell_type": "code",
   "execution_count": 15,
   "metadata": {},
   "outputs": [],
   "source": [
    "dep = 'category_class'\n",
    "\n",
    "train = train[cat_vars+contin_vars+[dep, 'item_id']].copy()"
   ]
  },
  {
   "cell_type": "code",
   "execution_count": 16,
   "metadata": {},
   "outputs": [],
   "source": [
    "test[dep] = 0\n",
    "test = test[cat_vars+contin_vars+[dep, 'item_id']].copy()"
   ]
  },
  {
   "cell_type": "code",
   "execution_count": 17,
   "metadata": {},
   "outputs": [],
   "source": [
    "for v in cat_vars: train[v] = train[v].astype('category').cat.as_ordered()"
   ]
  },
  {
   "cell_type": "code",
   "execution_count": 18,
   "metadata": {},
   "outputs": [],
   "source": [
    "apply_cats(test, train)"
   ]
  },
  {
   "cell_type": "code",
   "execution_count": 19,
   "metadata": {},
   "outputs": [],
   "source": [
    "for v in contin_vars:\n",
    "    train[v] = train[v].astype('float32')\n",
    "    test[v] = test[v].astype('float32')"
   ]
  },
  {
   "cell_type": "code",
   "execution_count": 20,
   "metadata": {},
   "outputs": [
    {
     "data": {
      "text/html": [
       "<div>\n",
       "<style scoped>\n",
       "    .dataframe tbody tr th:only-of-type {\n",
       "        vertical-align: middle;\n",
       "    }\n",
       "\n",
       "    .dataframe tbody tr th {\n",
       "        vertical-align: top;\n",
       "    }\n",
       "\n",
       "    .dataframe thead th {\n",
       "        text-align: right;\n",
       "    }\n",
       "</style>\n",
       "<table border=\"1\" class=\"dataframe\">\n",
       "  <thead>\n",
       "    <tr style=\"text-align: right;\">\n",
       "      <th></th>\n",
       "      <th>area_name</th>\n",
       "      <th>condition</th>\n",
       "      <th>sold_price</th>\n",
       "      <th>price</th>\n",
       "      <th>size</th>\n",
       "      <th>category_class</th>\n",
       "      <th>item_id</th>\n",
       "    </tr>\n",
       "  </thead>\n",
       "  <tbody>\n",
       "    <tr>\n",
       "      <th>0</th>\n",
       "      <td>fff</td>\n",
       "      <td>Fair</td>\n",
       "      <td>1164.0</td>\n",
       "      <td>1162.0</td>\n",
       "      <td>7.0001</td>\n",
       "      <td>0</td>\n",
       "      <td>7966</td>\n",
       "    </tr>\n",
       "    <tr>\n",
       "      <th>1</th>\n",
       "      <td>fff</td>\n",
       "      <td>Fair</td>\n",
       "      <td>1005.0</td>\n",
       "      <td>1004.0</td>\n",
       "      <td>3.0001</td>\n",
       "      <td>0</td>\n",
       "      <td>1850</td>\n",
       "    </tr>\n",
       "    <tr>\n",
       "      <th>2</th>\n",
       "      <td>aaa</td>\n",
       "      <td>Fair</td>\n",
       "      <td>944.0</td>\n",
       "      <td>944.0</td>\n",
       "      <td>5.0001</td>\n",
       "      <td>2</td>\n",
       "      <td>7582</td>\n",
       "    </tr>\n",
       "    <tr>\n",
       "      <th>3</th>\n",
       "      <td>fff</td>\n",
       "      <td>Fair</td>\n",
       "      <td>1068.0</td>\n",
       "      <td>1067.0</td>\n",
       "      <td>7.0001</td>\n",
       "      <td>0</td>\n",
       "      <td>6560</td>\n",
       "    </tr>\n",
       "    <tr>\n",
       "      <th>4</th>\n",
       "      <td>ddd</td>\n",
       "      <td>Good</td>\n",
       "      <td>1407.0</td>\n",
       "      <td>1407.0</td>\n",
       "      <td>15.0001</td>\n",
       "      <td>3</td>\n",
       "      <td>7368</td>\n",
       "    </tr>\n",
       "  </tbody>\n",
       "</table>\n",
       "</div>"
      ],
      "text/plain": [
       "  area_name condition  sold_price   price     size  category_class  item_id\n",
       "0       fff      Fair      1164.0  1162.0   7.0001               0     7966\n",
       "1       fff      Fair      1005.0  1004.0   3.0001               0     1850\n",
       "2       aaa      Fair       944.0   944.0   5.0001               2     7582\n",
       "3       fff      Fair      1068.0  1067.0   7.0001               0     6560\n",
       "4       ddd      Good      1407.0  1407.0  15.0001               3     7368"
      ]
     },
     "execution_count": 20,
     "metadata": {},
     "output_type": "execute_result"
    }
   ],
   "source": [
    "train.head()"
   ]
  },
  {
   "cell_type": "code",
   "execution_count": 21,
   "metadata": {},
   "outputs": [
    {
     "data": {
      "text/html": [
       "<div>\n",
       "<style scoped>\n",
       "    .dataframe tbody tr th:only-of-type {\n",
       "        vertical-align: middle;\n",
       "    }\n",
       "\n",
       "    .dataframe tbody tr th {\n",
       "        vertical-align: top;\n",
       "    }\n",
       "\n",
       "    .dataframe thead th {\n",
       "        text-align: right;\n",
       "    }\n",
       "</style>\n",
       "<table border=\"1\" class=\"dataframe\">\n",
       "  <thead>\n",
       "    <tr style=\"text-align: right;\">\n",
       "      <th></th>\n",
       "      <th>area_name</th>\n",
       "      <th>condition</th>\n",
       "      <th>sold_price</th>\n",
       "      <th>price</th>\n",
       "      <th>size</th>\n",
       "      <th>category_class</th>\n",
       "      <th>item_id</th>\n",
       "    </tr>\n",
       "  </thead>\n",
       "  <tbody>\n",
       "    <tr>\n",
       "      <th>0</th>\n",
       "      <td>aaa</td>\n",
       "      <td>Like New</td>\n",
       "      <td>1006.0</td>\n",
       "      <td>1006.0</td>\n",
       "      <td>4.000100</td>\n",
       "      <td>0</td>\n",
       "      <td>6000</td>\n",
       "    </tr>\n",
       "    <tr>\n",
       "      <th>1</th>\n",
       "      <td>fff</td>\n",
       "      <td>Fair</td>\n",
       "      <td>1149.0</td>\n",
       "      <td>1147.0</td>\n",
       "      <td>3.000100</td>\n",
       "      <td>0</td>\n",
       "      <td>5532</td>\n",
       "    </tr>\n",
       "    <tr>\n",
       "      <th>2</th>\n",
       "      <td>ddd</td>\n",
       "      <td>Like New</td>\n",
       "      <td>1044.0</td>\n",
       "      <td>1042.0</td>\n",
       "      <td>21.000099</td>\n",
       "      <td>0</td>\n",
       "      <td>6797</td>\n",
       "    </tr>\n",
       "    <tr>\n",
       "      <th>3</th>\n",
       "      <td>kkk</td>\n",
       "      <td>Like New</td>\n",
       "      <td>1547.0</td>\n",
       "      <td>1545.0</td>\n",
       "      <td>20.000099</td>\n",
       "      <td>0</td>\n",
       "      <td>3325</td>\n",
       "    </tr>\n",
       "    <tr>\n",
       "      <th>4</th>\n",
       "      <td>ddd</td>\n",
       "      <td>Like New</td>\n",
       "      <td>1015.0</td>\n",
       "      <td>1014.0</td>\n",
       "      <td>5.000100</td>\n",
       "      <td>0</td>\n",
       "      <td>5447</td>\n",
       "    </tr>\n",
       "  </tbody>\n",
       "</table>\n",
       "</div>"
      ],
      "text/plain": [
       "  area_name condition  sold_price   price       size  category_class  item_id\n",
       "0       aaa  Like New      1006.0  1006.0   4.000100               0     6000\n",
       "1       fff      Fair      1149.0  1147.0   3.000100               0     5532\n",
       "2       ddd  Like New      1044.0  1042.0  21.000099               0     6797\n",
       "3       kkk  Like New      1547.0  1545.0  20.000099               0     3325\n",
       "4       ddd  Like New      1015.0  1014.0   5.000100               0     5447"
      ]
     },
     "execution_count": 21,
     "metadata": {},
     "output_type": "execute_result"
    }
   ],
   "source": [
    "test.head()"
   ]
  },
  {
   "cell_type": "code",
   "execution_count": 22,
   "metadata": {},
   "outputs": [
    {
     "data": {
      "text/plain": [
       "700"
      ]
     },
     "execution_count": 22,
     "metadata": {},
     "output_type": "execute_result"
    }
   ],
   "source": [
    "len(train)"
   ]
  },
  {
   "cell_type": "code",
   "execution_count": 23,
   "metadata": {},
   "outputs": [],
   "source": [
    "df, y, nas, mapper = proc_df(train, dep, do_scale=True)"
   ]
  },
  {
   "cell_type": "code",
   "execution_count": 24,
   "metadata": {},
   "outputs": [
    {
     "data": {
      "text/plain": [
       "array([0, 0, 2, 0, 3, 2, 1, 2, 0, 4, 4, 0, 1, 2, 0, 0, 1, 0, 2, 2, ..., 3, 4, 4, 3, 4, 2, 1, 4, 2, 1, 0, 2,\n",
       "       3, 4, 0, 0, 0, 1, 1, 3])"
      ]
     },
     "execution_count": 24,
     "metadata": {},
     "output_type": "execute_result"
    }
   ],
   "source": [
    "y"
   ]
  },
  {
   "cell_type": "code",
   "execution_count": 25,
   "metadata": {},
   "outputs": [
    {
     "data": {
      "text/html": [
       "<div>\n",
       "<style scoped>\n",
       "    .dataframe tbody tr th:only-of-type {\n",
       "        vertical-align: middle;\n",
       "    }\n",
       "\n",
       "    .dataframe tbody tr th {\n",
       "        vertical-align: top;\n",
       "    }\n",
       "\n",
       "    .dataframe thead th {\n",
       "        text-align: right;\n",
       "    }\n",
       "</style>\n",
       "<table border=\"1\" class=\"dataframe\">\n",
       "  <thead>\n",
       "    <tr style=\"text-align: right;\">\n",
       "      <th></th>\n",
       "      <th>area_name</th>\n",
       "      <th>condition</th>\n",
       "      <th>sold_price</th>\n",
       "      <th>price</th>\n",
       "      <th>size</th>\n",
       "      <th>item_id</th>\n",
       "    </tr>\n",
       "  </thead>\n",
       "  <tbody>\n",
       "    <tr>\n",
       "      <th>0</th>\n",
       "      <td>6</td>\n",
       "      <td>1</td>\n",
       "      <td>0.356165</td>\n",
       "      <td>0.146558</td>\n",
       "      <td>-0.308663</td>\n",
       "      <td>0.941096</td>\n",
       "    </tr>\n",
       "    <tr>\n",
       "      <th>1</th>\n",
       "      <td>6</td>\n",
       "      <td>1</td>\n",
       "      <td>-0.431726</td>\n",
       "      <td>-0.383487</td>\n",
       "      <td>-0.821574</td>\n",
       "      <td>-1.421234</td>\n",
       "    </tr>\n",
       "    <tr>\n",
       "      <th>2</th>\n",
       "      <td>1</td>\n",
       "      <td>1</td>\n",
       "      <td>-0.733998</td>\n",
       "      <td>-0.584770</td>\n",
       "      <td>-0.565118</td>\n",
       "      <td>0.792774</td>\n",
       "    </tr>\n",
       "  </tbody>\n",
       "</table>\n",
       "</div>"
      ],
      "text/plain": [
       "   area_name  condition  sold_price     price      size   item_id\n",
       "0          6          1    0.356165  0.146558 -0.308663  0.941096\n",
       "1          6          1   -0.431726 -0.383487 -0.821574 -1.421234\n",
       "2          1          1   -0.733998 -0.584770 -0.565118  0.792774"
      ]
     },
     "execution_count": 25,
     "metadata": {},
     "output_type": "execute_result"
    }
   ],
   "source": [
    "df.head(3)"
   ]
  },
  {
   "cell_type": "code",
   "execution_count": 26,
   "metadata": {},
   "outputs": [],
   "source": [
    "df_test, _, nas, mapper = proc_df(test, dep, do_scale=True, mapper=mapper, na_dict=nas)"
   ]
  },
  {
   "cell_type": "code",
   "execution_count": 27,
   "metadata": {},
   "outputs": [
    {
     "data": {
      "text/html": [
       "<div>\n",
       "<style scoped>\n",
       "    .dataframe tbody tr th:only-of-type {\n",
       "        vertical-align: middle;\n",
       "    }\n",
       "\n",
       "    .dataframe tbody tr th {\n",
       "        vertical-align: top;\n",
       "    }\n",
       "\n",
       "    .dataframe thead th {\n",
       "        text-align: right;\n",
       "    }\n",
       "</style>\n",
       "<table border=\"1\" class=\"dataframe\">\n",
       "  <thead>\n",
       "    <tr style=\"text-align: right;\">\n",
       "      <th></th>\n",
       "      <th>area_name</th>\n",
       "      <th>condition</th>\n",
       "      <th>sold_price</th>\n",
       "      <th>price</th>\n",
       "      <th>size</th>\n",
       "      <th>item_id</th>\n",
       "    </tr>\n",
       "  </thead>\n",
       "  <tbody>\n",
       "    <tr>\n",
       "      <th>0</th>\n",
       "      <td>1</td>\n",
       "      <td>3</td>\n",
       "      <td>-0.426770</td>\n",
       "      <td>-0.376777</td>\n",
       "      <td>-0.693346</td>\n",
       "      <td>0.181720</td>\n",
       "    </tr>\n",
       "    <tr>\n",
       "      <th>1</th>\n",
       "      <td>6</td>\n",
       "      <td>1</td>\n",
       "      <td>0.281835</td>\n",
       "      <td>0.096237</td>\n",
       "      <td>-0.821574</td>\n",
       "      <td>0.000953</td>\n",
       "    </tr>\n",
       "    <tr>\n",
       "      <th>2</th>\n",
       "      <td>4</td>\n",
       "      <td>3</td>\n",
       "      <td>-0.238469</td>\n",
       "      <td>-0.256008</td>\n",
       "      <td>1.486526</td>\n",
       "      <td>0.489565</td>\n",
       "    </tr>\n",
       "  </tbody>\n",
       "</table>\n",
       "</div>"
      ],
      "text/plain": [
       "   area_name  condition  sold_price     price      size   item_id\n",
       "0          1          3   -0.426770 -0.376777 -0.693346  0.181720\n",
       "1          6          1    0.281835  0.096237 -0.821574  0.000953\n",
       "2          4          3   -0.238469 -0.256008  1.486526  0.489565"
      ]
     },
     "execution_count": 27,
     "metadata": {},
     "output_type": "execute_result"
    }
   ],
   "source": [
    "df_test.head(3)"
   ]
  },
  {
   "cell_type": "code",
   "execution_count": 28,
   "metadata": {},
   "outputs": [
    {
     "data": {
      "text/plain": [
       "DataFrameMapper(default=False, df_out=False,\n",
       "        features=[(['sold_price'], StandardScaler(copy=True, with_mean=True, with_std=True)), (['price'], StandardScaler(copy=True, with_mean=True, with_std=True)), (['size'], StandardScaler(copy=True, with_mean=True, with_std=True)), (['item_id'], StandardScaler(copy=True, with_mean=True, with_std=True))],\n",
       "        input_df=False, sparse=False)"
      ]
     },
     "execution_count": 28,
     "metadata": {},
     "output_type": "execute_result"
    }
   ],
   "source": [
    "mapper"
   ]
  },
  {
   "cell_type": "code",
   "execution_count": 29,
   "metadata": {},
   "outputs": [
    {
     "data": {
      "text/html": [
       "<div>\n",
       "<style scoped>\n",
       "    .dataframe tbody tr th:only-of-type {\n",
       "        vertical-align: middle;\n",
       "    }\n",
       "\n",
       "    .dataframe tbody tr th {\n",
       "        vertical-align: top;\n",
       "    }\n",
       "\n",
       "    .dataframe thead th {\n",
       "        text-align: right;\n",
       "    }\n",
       "</style>\n",
       "<table border=\"1\" class=\"dataframe\">\n",
       "  <thead>\n",
       "    <tr style=\"text-align: right;\">\n",
       "      <th></th>\n",
       "      <th>area_name</th>\n",
       "      <th>condition</th>\n",
       "      <th>sold_price</th>\n",
       "      <th>price</th>\n",
       "      <th>size</th>\n",
       "      <th>item_id</th>\n",
       "    </tr>\n",
       "  </thead>\n",
       "  <tbody>\n",
       "    <tr>\n",
       "      <th>count</th>\n",
       "      <td>300</td>\n",
       "      <td>300</td>\n",
       "      <td>300</td>\n",
       "      <td>300</td>\n",
       "      <td>300</td>\n",
       "      <td>300</td>\n",
       "    </tr>\n",
       "    <tr>\n",
       "      <th>mean</th>\n",
       "      <td>5.44</td>\n",
       "      <td>2.11333</td>\n",
       "      <td>0.0374904</td>\n",
       "      <td>-0.0449963</td>\n",
       "      <td>-0.00818214</td>\n",
       "      <td>-0.0287005</td>\n",
       "    </tr>\n",
       "    <tr>\n",
       "      <th>std</th>\n",
       "      <td>2.87645</td>\n",
       "      <td>0.758776</td>\n",
       "      <td>1.06352</td>\n",
       "      <td>0.789884</td>\n",
       "      <td>1.01026</td>\n",
       "      <td>1.019</td>\n",
       "    </tr>\n",
       "    <tr>\n",
       "      <th>min</th>\n",
       "      <td>1</td>\n",
       "      <td>1</td>\n",
       "      <td>-2.01742</td>\n",
       "      <td>-1.457</td>\n",
       "      <td>-1.20626</td>\n",
       "      <td>-1.74723</td>\n",
       "    </tr>\n",
       "    <tr>\n",
       "      <th>25%</th>\n",
       "      <td>3</td>\n",
       "      <td>2</td>\n",
       "      <td>-0.641086</td>\n",
       "      <td>-0.525224</td>\n",
       "      <td>-0.693346</td>\n",
       "      <td>-0.941989</td>\n",
       "    </tr>\n",
       "    <tr>\n",
       "      <th>50%</th>\n",
       "      <td>5</td>\n",
       "      <td>2</td>\n",
       "      <td>-0.203782</td>\n",
       "      <td>-0.227493</td>\n",
       "      <td>-0.308663</td>\n",
       "      <td>-0.0542808</td>\n",
       "    </tr>\n",
       "    <tr>\n",
       "      <th>75%</th>\n",
       "      <td>8</td>\n",
       "      <td>3</td>\n",
       "      <td>0.524644</td>\n",
       "      <td>0.261457</td>\n",
       "      <td>0.460704</td>\n",
       "      <td>0.832076</td>\n",
       "    </tr>\n",
       "    <tr>\n",
       "      <th>max</th>\n",
       "      <td>10</td>\n",
       "      <td>3</td>\n",
       "      <td>3.0122</td>\n",
       "      <td>4.86999</td>\n",
       "      <td>3.92285</td>\n",
       "      <td>1.7194</td>\n",
       "    </tr>\n",
       "    <tr>\n",
       "      <th>counts</th>\n",
       "      <td>300</td>\n",
       "      <td>300</td>\n",
       "      <td>300</td>\n",
       "      <td>300</td>\n",
       "      <td>300</td>\n",
       "      <td>300</td>\n",
       "    </tr>\n",
       "    <tr>\n",
       "      <th>uniques</th>\n",
       "      <td>10</td>\n",
       "      <td>3</td>\n",
       "      <td>245</td>\n",
       "      <td>243</td>\n",
       "      <td>33</td>\n",
       "      <td>300</td>\n",
       "    </tr>\n",
       "    <tr>\n",
       "      <th>missing</th>\n",
       "      <td>0</td>\n",
       "      <td>0</td>\n",
       "      <td>0</td>\n",
       "      <td>0</td>\n",
       "      <td>0</td>\n",
       "      <td>0</td>\n",
       "    </tr>\n",
       "    <tr>\n",
       "      <th>missing_perc</th>\n",
       "      <td>0%</td>\n",
       "      <td>0%</td>\n",
       "      <td>0%</td>\n",
       "      <td>0%</td>\n",
       "      <td>0%</td>\n",
       "      <td>0%</td>\n",
       "    </tr>\n",
       "    <tr>\n",
       "      <th>types</th>\n",
       "      <td>numeric</td>\n",
       "      <td>numeric</td>\n",
       "      <td>numeric</td>\n",
       "      <td>numeric</td>\n",
       "      <td>numeric</td>\n",
       "      <td>numeric</td>\n",
       "    </tr>\n",
       "  </tbody>\n",
       "</table>\n",
       "</div>"
      ],
      "text/plain": [
       "             area_name condition sold_price      price        size    item_id\n",
       "count              300       300        300        300         300        300\n",
       "mean              5.44   2.11333  0.0374904 -0.0449963 -0.00818214 -0.0287005\n",
       "std            2.87645  0.758776    1.06352   0.789884     1.01026      1.019\n",
       "min                  1         1   -2.01742     -1.457    -1.20626   -1.74723\n",
       "25%                  3         2  -0.641086  -0.525224   -0.693346  -0.941989\n",
       "50%                  5         2  -0.203782  -0.227493   -0.308663 -0.0542808\n",
       "75%                  8         3   0.524644   0.261457    0.460704   0.832076\n",
       "max                 10         3     3.0122    4.86999     3.92285     1.7194\n",
       "counts             300       300        300        300         300        300\n",
       "uniques             10         3        245        243          33        300\n",
       "missing              0         0          0          0           0          0\n",
       "missing_perc        0%        0%         0%         0%          0%         0%\n",
       "types          numeric   numeric    numeric    numeric     numeric    numeric"
      ]
     },
     "metadata": {},
     "output_type": "display_data"
    }
   ],
   "source": [
    "display(DataFrameSummary(df_test).summary())"
   ]
  },
  {
   "cell_type": "code",
   "execution_count": 30,
   "metadata": {},
   "outputs": [
    {
     "data": {
      "text/html": [
       "<div>\n",
       "<style scoped>\n",
       "    .dataframe tbody tr th:only-of-type {\n",
       "        vertical-align: middle;\n",
       "    }\n",
       "\n",
       "    .dataframe tbody tr th {\n",
       "        vertical-align: top;\n",
       "    }\n",
       "\n",
       "    .dataframe thead th {\n",
       "        text-align: right;\n",
       "    }\n",
       "</style>\n",
       "<table border=\"1\" class=\"dataframe\">\n",
       "  <thead>\n",
       "    <tr style=\"text-align: right;\">\n",
       "      <th></th>\n",
       "      <th>area_name</th>\n",
       "      <th>condition</th>\n",
       "      <th>sold_price</th>\n",
       "      <th>price</th>\n",
       "      <th>size</th>\n",
       "      <th>item_id</th>\n",
       "    </tr>\n",
       "  </thead>\n",
       "  <tbody>\n",
       "    <tr>\n",
       "      <th>count</th>\n",
       "      <td>700</td>\n",
       "      <td>700</td>\n",
       "      <td>700</td>\n",
       "      <td>700</td>\n",
       "      <td>700</td>\n",
       "      <td>700</td>\n",
       "    </tr>\n",
       "    <tr>\n",
       "      <th>mean</th>\n",
       "      <td>5.52571</td>\n",
       "      <td>1.98857</td>\n",
       "      <td>8.97259e-08</td>\n",
       "      <td>-3.11847e-08</td>\n",
       "      <td>1.422e-08</td>\n",
       "      <td>4.21885e-17</td>\n",
       "    </tr>\n",
       "    <tr>\n",
       "      <th>std</th>\n",
       "      <td>2.87422</td>\n",
       "      <td>0.782415</td>\n",
       "      <td>1.00072</td>\n",
       "      <td>1.00072</td>\n",
       "      <td>1.00072</td>\n",
       "      <td>1.00072</td>\n",
       "    </tr>\n",
       "    <tr>\n",
       "      <th>min</th>\n",
       "      <td>1</td>\n",
       "      <td>1</td>\n",
       "      <td>-2.21067</td>\n",
       "      <td>-1.58783</td>\n",
       "      <td>-1.20626</td>\n",
       "      <td>-1.73371</td>\n",
       "    </tr>\n",
       "    <tr>\n",
       "      <th>25%</th>\n",
       "      <td>3</td>\n",
       "      <td>1</td>\n",
       "      <td>-0.71046</td>\n",
       "      <td>-0.571351</td>\n",
       "      <td>-0.693346</td>\n",
       "      <td>-0.857593</td>\n",
       "    </tr>\n",
       "    <tr>\n",
       "      <th>50%</th>\n",
       "      <td>6</td>\n",
       "      <td>2</td>\n",
       "      <td>-0.16414</td>\n",
       "      <td>-0.202332</td>\n",
       "      <td>-0.308663</td>\n",
       "      <td>0.0104167</td>\n",
       "    </tr>\n",
       "    <tr>\n",
       "      <th>75%</th>\n",
       "      <td>8</td>\n",
       "      <td>3</td>\n",
       "      <td>0.47633</td>\n",
       "      <td>0.25307</td>\n",
       "      <td>0.332476</td>\n",
       "      <td>0.806486</td>\n",
       "    </tr>\n",
       "    <tr>\n",
       "      <th>max</th>\n",
       "      <td>10</td>\n",
       "      <td>3</td>\n",
       "      <td>3.87442</td>\n",
       "      <td>6.91972</td>\n",
       "      <td>6.35918</td>\n",
       "      <td>1.72287</td>\n",
       "    </tr>\n",
       "    <tr>\n",
       "      <th>counts</th>\n",
       "      <td>700</td>\n",
       "      <td>700</td>\n",
       "      <td>700</td>\n",
       "      <td>700</td>\n",
       "      <td>700</td>\n",
       "      <td>700</td>\n",
       "    </tr>\n",
       "    <tr>\n",
       "      <th>uniques</th>\n",
       "      <td>10</td>\n",
       "      <td>3</td>\n",
       "      <td>453</td>\n",
       "      <td>446</td>\n",
       "      <td>41</td>\n",
       "      <td>700</td>\n",
       "    </tr>\n",
       "    <tr>\n",
       "      <th>missing</th>\n",
       "      <td>0</td>\n",
       "      <td>0</td>\n",
       "      <td>0</td>\n",
       "      <td>0</td>\n",
       "      <td>0</td>\n",
       "      <td>0</td>\n",
       "    </tr>\n",
       "    <tr>\n",
       "      <th>missing_perc</th>\n",
       "      <td>0%</td>\n",
       "      <td>0%</td>\n",
       "      <td>0%</td>\n",
       "      <td>0%</td>\n",
       "      <td>0%</td>\n",
       "      <td>0%</td>\n",
       "    </tr>\n",
       "    <tr>\n",
       "      <th>types</th>\n",
       "      <td>numeric</td>\n",
       "      <td>numeric</td>\n",
       "      <td>numeric</td>\n",
       "      <td>numeric</td>\n",
       "      <td>numeric</td>\n",
       "      <td>numeric</td>\n",
       "    </tr>\n",
       "  </tbody>\n",
       "</table>\n",
       "</div>"
      ],
      "text/plain": [
       "             area_name condition   sold_price        price       size  \\\n",
       "count              700       700          700          700        700   \n",
       "mean           5.52571   1.98857  8.97259e-08 -3.11847e-08  1.422e-08   \n",
       "std            2.87422  0.782415      1.00072      1.00072    1.00072   \n",
       "min                  1         1     -2.21067     -1.58783   -1.20626   \n",
       "25%                  3         1     -0.71046    -0.571351  -0.693346   \n",
       "50%                  6         2     -0.16414    -0.202332  -0.308663   \n",
       "75%                  8         3      0.47633      0.25307   0.332476   \n",
       "max                 10         3      3.87442      6.91972    6.35918   \n",
       "counts             700       700          700          700        700   \n",
       "uniques             10         3          453          446         41   \n",
       "missing              0         0            0            0          0   \n",
       "missing_perc        0%        0%           0%           0%         0%   \n",
       "types          numeric   numeric      numeric      numeric    numeric   \n",
       "\n",
       "                  item_id  \n",
       "count                 700  \n",
       "mean          4.21885e-17  \n",
       "std               1.00072  \n",
       "min              -1.73371  \n",
       "25%             -0.857593  \n",
       "50%             0.0104167  \n",
       "75%              0.806486  \n",
       "max               1.72287  \n",
       "counts                700  \n",
       "uniques               700  \n",
       "missing                 0  \n",
       "missing_perc           0%  \n",
       "types             numeric  "
      ]
     },
     "metadata": {},
     "output_type": "display_data"
    }
   ],
   "source": [
    "display(DataFrameSummary(df).summary())"
   ]
  },
  {
   "cell_type": "markdown",
   "metadata": {},
   "source": [
    "# ❸モデル学習 (Training model)\n",
    "\n",
    "#### Pytorchを利用して、ニューラルネットワークの分類モデルを生成する。"
   ]
  },
  {
   "cell_type": "code",
   "execution_count": 31,
   "metadata": {},
   "outputs": [
    {
     "data": {
      "text/plain": [
       "700"
      ]
     },
     "execution_count": 31,
     "metadata": {},
     "output_type": "execute_result"
    }
   ],
   "source": [
    "n = len(train); n"
   ]
  },
  {
   "cell_type": "markdown",
   "metadata": {},
   "source": [
    "#### 10％訓練データーを検証セットとする"
   ]
  },
  {
   "cell_type": "code",
   "execution_count": 32,
   "metadata": {},
   "outputs": [],
   "source": [
    "train_ratio = 0.9\n",
    "train_size = int(700 * train_ratio); train_size\n",
    "#val_idx = list(range(train_size, len(df)))\n",
    "val_idx = list(range(70, 70+len(df)-train_size))\n",
    "#val_idx = list(range(0, len(df)-train_size))\n",
    "#val_idx = get_cv_idxs(n, val_pct=0.1)"
   ]
  },
  {
   "cell_type": "code",
   "execution_count": 33,
   "metadata": {},
   "outputs": [
    {
     "data": {
      "text/html": [
       "<div>\n",
       "<style scoped>\n",
       "    .dataframe tbody tr th:only-of-type {\n",
       "        vertical-align: middle;\n",
       "    }\n",
       "\n",
       "    .dataframe tbody tr th {\n",
       "        vertical-align: top;\n",
       "    }\n",
       "\n",
       "    .dataframe thead th {\n",
       "        text-align: right;\n",
       "    }\n",
       "</style>\n",
       "<table border=\"1\" class=\"dataframe\">\n",
       "  <thead>\n",
       "    <tr style=\"text-align: right;\">\n",
       "      <th></th>\n",
       "      <th>area_name</th>\n",
       "      <th>condition</th>\n",
       "      <th>sold_price</th>\n",
       "      <th>price</th>\n",
       "      <th>size</th>\n",
       "      <th>item_id</th>\n",
       "    </tr>\n",
       "  </thead>\n",
       "  <tbody>\n",
       "    <tr>\n",
       "      <th>0</th>\n",
       "      <td>1</td>\n",
       "      <td>3</td>\n",
       "      <td>-0.426770</td>\n",
       "      <td>-0.376777</td>\n",
       "      <td>-0.693346</td>\n",
       "      <td>0.181720</td>\n",
       "    </tr>\n",
       "    <tr>\n",
       "      <th>1</th>\n",
       "      <td>6</td>\n",
       "      <td>1</td>\n",
       "      <td>0.281835</td>\n",
       "      <td>0.096237</td>\n",
       "      <td>-0.821574</td>\n",
       "      <td>0.000953</td>\n",
       "    </tr>\n",
       "  </tbody>\n",
       "</table>\n",
       "</div>"
      ],
      "text/plain": [
       "   area_name  condition  sold_price     price      size   item_id\n",
       "0          1          3   -0.426770 -0.376777 -0.693346  0.181720\n",
       "1          6          1    0.281835  0.096237 -0.821574  0.000953"
      ]
     },
     "execution_count": 33,
     "metadata": {},
     "output_type": "execute_result"
    }
   ],
   "source": [
    "df_test.head(2)"
   ]
  },
  {
   "cell_type": "code",
   "execution_count": 34,
   "metadata": {},
   "outputs": [
    {
     "data": {
      "text/html": [
       "<div>\n",
       "<style scoped>\n",
       "    .dataframe tbody tr th:only-of-type {\n",
       "        vertical-align: middle;\n",
       "    }\n",
       "\n",
       "    .dataframe tbody tr th {\n",
       "        vertical-align: top;\n",
       "    }\n",
       "\n",
       "    .dataframe thead th {\n",
       "        text-align: right;\n",
       "    }\n",
       "</style>\n",
       "<table border=\"1\" class=\"dataframe\">\n",
       "  <thead>\n",
       "    <tr style=\"text-align: right;\">\n",
       "      <th></th>\n",
       "      <th>area_name</th>\n",
       "      <th>condition</th>\n",
       "      <th>sold_price</th>\n",
       "      <th>price</th>\n",
       "      <th>size</th>\n",
       "      <th>item_id</th>\n",
       "    </tr>\n",
       "  </thead>\n",
       "  <tbody>\n",
       "    <tr>\n",
       "      <th>0</th>\n",
       "      <td>6</td>\n",
       "      <td>1</td>\n",
       "      <td>0.356165</td>\n",
       "      <td>0.146558</td>\n",
       "      <td>-0.308663</td>\n",
       "      <td>0.941096</td>\n",
       "    </tr>\n",
       "    <tr>\n",
       "      <th>1</th>\n",
       "      <td>6</td>\n",
       "      <td>1</td>\n",
       "      <td>-0.431726</td>\n",
       "      <td>-0.383487</td>\n",
       "      <td>-0.821574</td>\n",
       "      <td>-1.421234</td>\n",
       "    </tr>\n",
       "  </tbody>\n",
       "</table>\n",
       "</div>"
      ],
      "text/plain": [
       "   area_name  condition  sold_price     price      size   item_id\n",
       "0          6          1    0.356165  0.146558 -0.308663  0.941096\n",
       "1          6          1   -0.431726 -0.383487 -0.821574 -1.421234"
      ]
     },
     "execution_count": 34,
     "metadata": {},
     "output_type": "execute_result"
    }
   ],
   "source": [
    "df.head(2)"
   ]
  },
  {
   "cell_type": "code",
   "execution_count": 35,
   "metadata": {},
   "outputs": [],
   "source": [
    "md = ColumnarModelData.from_data_frame(PATH, val_idx, df, y.astype('int'), cat_flds=cat_vars, bs=64,\n",
    "                                      is_reg=False,is_multi=False,test_df=df_test)"
   ]
  },
  {
   "cell_type": "code",
   "execution_count": 36,
   "metadata": {},
   "outputs": [],
   "source": [
    "cat_sz = [(c, len(train[c].cat.categories)+1) for c in cat_vars]"
   ]
  },
  {
   "cell_type": "code",
   "execution_count": 37,
   "metadata": {},
   "outputs": [
    {
     "data": {
      "text/plain": [
       "[('area_name', 11), ('condition', 4)]"
      ]
     },
     "execution_count": 37,
     "metadata": {},
     "output_type": "execute_result"
    }
   ],
   "source": [
    "cat_sz"
   ]
  },
  {
   "cell_type": "markdown",
   "metadata": {},
   "source": [
    "#### カテゴリー特徴データを　embeddingsにし、ニューラルネットワークに学習されます。"
   ]
  },
  {
   "cell_type": "code",
   "execution_count": 38,
   "metadata": {},
   "outputs": [],
   "source": [
    "emb_szs = [(c, min(50, (c+1)//2)) for _,c in cat_sz]"
   ]
  },
  {
   "cell_type": "code",
   "execution_count": 39,
   "metadata": {},
   "outputs": [
    {
     "data": {
      "text/plain": [
       "[(11, 6), (4, 2)]"
      ]
     },
     "execution_count": 39,
     "metadata": {},
     "output_type": "execute_result"
    }
   ],
   "source": [
    "emb_szs"
   ]
  },
  {
   "cell_type": "code",
   "execution_count": 40,
   "metadata": {},
   "outputs": [
    {
     "data": {
      "text/plain": [
       "True"
      ]
     },
     "execution_count": 40,
     "metadata": {},
     "output_type": "execute_result"
    }
   ],
   "source": [
    "torch.cuda.is_available()"
   ]
  },
  {
   "cell_type": "code",
   "execution_count": 41,
   "metadata": {},
   "outputs": [
    {
     "data": {
      "text/plain": [
       "4"
      ]
     },
     "execution_count": 41,
     "metadata": {},
     "output_type": "execute_result"
    }
   ],
   "source": [
    "len(df.columns)-len(cat_vars)"
   ]
  },
  {
   "cell_type": "code",
   "execution_count": 42,
   "metadata": {},
   "outputs": [],
   "source": [
    "m = md.get_learner(emb_szs, len(df.columns)-len(cat_vars),0.06, 5, [100,50], [0.03,0.06],None,True)"
   ]
  },
  {
   "cell_type": "markdown",
   "metadata": {},
   "source": [
    "#### 生成したニューラルネットワークのモデル情報"
   ]
  },
  {
   "cell_type": "code",
   "execution_count": 43,
   "metadata": {},
   "outputs": [
    {
     "data": {
      "text/plain": [
       "MixedInputModel(\n",
       "  (embs): ModuleList(\n",
       "    (0): Embedding(11, 6)\n",
       "    (1): Embedding(4, 2)\n",
       "  )\n",
       "  (lins): ModuleList(\n",
       "    (0): Linear(in_features=12, out_features=100, bias=True)\n",
       "    (1): Linear(in_features=100, out_features=50, bias=True)\n",
       "  )\n",
       "  (bns): ModuleList(\n",
       "    (0): BatchNorm1d(100, eps=1e-05, momentum=0.1, affine=True)\n",
       "    (1): BatchNorm1d(50, eps=1e-05, momentum=0.1, affine=True)\n",
       "  )\n",
       "  (outp): Linear(in_features=50, out_features=5, bias=True)\n",
       "  (emb_drop): Dropout(p=0.06)\n",
       "  (drops): ModuleList(\n",
       "    (0): Dropout(p=0.03)\n",
       "    (1): Dropout(p=0.06)\n",
       "  )\n",
       "  (bn): BatchNorm1d(4, eps=1e-05, momentum=0.1, affine=True)\n",
       ")"
      ]
     },
     "execution_count": 43,
     "metadata": {},
     "output_type": "execute_result"
    }
   ],
   "source": [
    "m"
   ]
  },
  {
   "cell_type": "markdown",
   "metadata": {},
   "source": [
    "#### モデルを訓練する"
   ]
  },
  {
   "cell_type": "code",
   "execution_count": 44,
   "metadata": {},
   "outputs": [],
   "source": [
    "#m.lr_find()\n",
    "#m.sched.plot(100)\n",
    "lr = .001"
   ]
  },
  {
   "cell_type": "code",
   "execution_count": 45,
   "metadata": {},
   "outputs": [
    {
     "data": {
      "application/vnd.jupyter.widget-view+json": {
       "model_id": "c92f790c78c74185acc5859f9744fbdd",
       "version_major": 2,
       "version_minor": 0
      },
      "text/html": [
       "<p>Failed to display Jupyter Widget of type <code>HBox</code>.</p>\n",
       "<p>\n",
       "  If you're reading this message in the Jupyter Notebook or JupyterLab Notebook, it may mean\n",
       "  that the widgets JavaScript is still loading. If this message persists, it\n",
       "  likely means that the widgets JavaScript library is either not installed or\n",
       "  not enabled. See the <a href=\"https://ipywidgets.readthedocs.io/en/stable/user_install.html\">Jupyter\n",
       "  Widgets Documentation</a> for setup instructions.\n",
       "</p>\n",
       "<p>\n",
       "  If you're reading this message in another frontend (for example, a static\n",
       "  rendering on GitHub or <a href=\"https://nbviewer.jupyter.org/\">NBViewer</a>),\n",
       "  it may mean that your frontend doesn't currently support widgets.\n",
       "</p>\n"
      ],
      "text/plain": [
       "HBox(children=(IntProgress(value=0, description='Epoch', max=3), HTML(value='')))"
      ]
     },
     "metadata": {},
     "output_type": "display_data"
    },
    {
     "name": "stdout",
     "output_type": "stream",
     "text": [
      "epoch      trn_loss   val_loss                           \n",
      "    0      1.584219   1.500864  \n",
      "    1      1.52992    1.406571                   \n",
      "    2      1.478474   1.315451                   \n",
      "\n"
     ]
    },
    {
     "data": {
      "text/plain": [
       "[array([1.31545])]"
      ]
     },
     "execution_count": 45,
     "metadata": {},
     "output_type": "execute_result"
    }
   ],
   "source": [
    "m.fit(lr, 3)"
   ]
  },
  {
   "cell_type": "code",
   "execution_count": 46,
   "metadata": {},
   "outputs": [
    {
     "data": {
      "application/vnd.jupyter.widget-view+json": {
       "model_id": "5ee4e23482f540f08bf91209ae6c3983",
       "version_major": 2,
       "version_minor": 0
      },
      "text/html": [
       "<p>Failed to display Jupyter Widget of type <code>HBox</code>.</p>\n",
       "<p>\n",
       "  If you're reading this message in the Jupyter Notebook or JupyterLab Notebook, it may mean\n",
       "  that the widgets JavaScript is still loading. If this message persists, it\n",
       "  likely means that the widgets JavaScript library is either not installed or\n",
       "  not enabled. See the <a href=\"https://ipywidgets.readthedocs.io/en/stable/user_install.html\">Jupyter\n",
       "  Widgets Documentation</a> for setup instructions.\n",
       "</p>\n",
       "<p>\n",
       "  If you're reading this message in another frontend (for example, a static\n",
       "  rendering on GitHub or <a href=\"https://nbviewer.jupyter.org/\">NBViewer</a>),\n",
       "  it may mean that your frontend doesn't currently support widgets.\n",
       "</p>\n"
      ],
      "text/plain": [
       "HBox(children=(IntProgress(value=0, description='Epoch', max=5), HTML(value='')))"
      ]
     },
     "metadata": {},
     "output_type": "display_data"
    },
    {
     "name": "stdout",
     "output_type": "stream",
     "text": [
      "epoch      trn_loss   val_loss                   \n",
      "    0      1.34461    1.273409  \n",
      "    1      1.320954   1.222514                   \n",
      "    2      1.29465    1.175169                   \n",
      "    3      1.271458   1.13659                    \n",
      "    4      1.249953   1.10072                    \n",
      "\n"
     ]
    },
    {
     "data": {
      "text/plain": [
       "[array([1.10072])]"
      ]
     },
     "execution_count": 46,
     "metadata": {},
     "output_type": "execute_result"
    }
   ],
   "source": [
    "m.fit(lr, 5, cycle_len=1)"
   ]
  },
  {
   "cell_type": "code",
   "execution_count": 47,
   "metadata": {},
   "outputs": [
    {
     "data": {
      "application/vnd.jupyter.widget-view+json": {
       "model_id": "de4892c5d9ec465a9b0e757a6c0864ed",
       "version_major": 2,
       "version_minor": 0
      },
      "text/html": [
       "<p>Failed to display Jupyter Widget of type <code>HBox</code>.</p>\n",
       "<p>\n",
       "  If you're reading this message in the Jupyter Notebook or JupyterLab Notebook, it may mean\n",
       "  that the widgets JavaScript is still loading. If this message persists, it\n",
       "  likely means that the widgets JavaScript library is either not installed or\n",
       "  not enabled. See the <a href=\"https://ipywidgets.readthedocs.io/en/stable/user_install.html\">Jupyter\n",
       "  Widgets Documentation</a> for setup instructions.\n",
       "</p>\n",
       "<p>\n",
       "  If you're reading this message in another frontend (for example, a static\n",
       "  rendering on GitHub or <a href=\"https://nbviewer.jupyter.org/\">NBViewer</a>),\n",
       "  it may mean that your frontend doesn't currently support widgets.\n",
       "</p>\n"
      ],
      "text/plain": [
       "HBox(children=(IntProgress(value=0, description='Epoch', max=28), HTML(value='')))"
      ]
     },
     "metadata": {},
     "output_type": "display_data"
    },
    {
     "name": "stdout",
     "output_type": "stream",
     "text": [
      "epoch      trn_loss   val_loss                   \n",
      "    0      1.173612   1.060457  \n",
      "    1      1.148898   1.02734                    \n",
      "    2      1.135133   1.015316                   \n",
      "    3      1.125446   1.012905                   \n",
      "    4      1.116269   0.978946                   \n",
      "    5      1.105387   0.959782                   \n",
      "    6      1.091594   0.943226                   \n",
      "    7      1.077832   0.932805                   \n",
      "    8      1.066356   0.928923                   \n",
      "    9      1.055314   0.924726                   \n",
      "    10     1.047221   0.924321                   \n",
      "    11     1.040968   0.924193                   \n",
      "    12     1.035887   0.914931                   \n",
      "    13     1.030873   0.906764                   \n",
      "    14     1.023861   0.900982                   \n",
      "    15     1.016582   0.892159                   \n",
      "    16     1.009121   0.889899                   \n",
      "    17     1.00014    0.889984                   \n",
      "    18     0.996287   0.884955                    \n",
      "    19     0.987947   0.881888                    \n",
      "    20     0.983528   0.880155                    \n",
      "    21     0.977778   0.880452                    \n",
      "    22     0.972036   0.878367                    \n",
      "    23     0.96629    0.878267                    \n",
      "    24     0.962604   0.878174                    \n",
      "    25     0.959464   0.87807                     \n",
      "    26     0.959032   0.877972                    \n",
      "    27     0.955491   0.877965                    \n",
      "\n"
     ]
    },
    {
     "data": {
      "text/plain": [
       "[array([0.87797])]"
      ]
     },
     "execution_count": 47,
     "metadata": {},
     "output_type": "execute_result"
    }
   ],
   "source": [
    "m.fit(lr, 3, cycle_len=4, cycle_mult=2 )"
   ]
  },
  {
   "cell_type": "code",
   "execution_count": 48,
   "metadata": {},
   "outputs": [
    {
     "data": {
      "application/vnd.jupyter.widget-view+json": {
       "model_id": "1372ffa5e13042caa2f4e9e492592b26",
       "version_major": 2,
       "version_minor": 0
      },
      "text/html": [
       "<p>Failed to display Jupyter Widget of type <code>HBox</code>.</p>\n",
       "<p>\n",
       "  If you're reading this message in the Jupyter Notebook or JupyterLab Notebook, it may mean\n",
       "  that the widgets JavaScript is still loading. If this message persists, it\n",
       "  likely means that the widgets JavaScript library is either not installed or\n",
       "  not enabled. See the <a href=\"https://ipywidgets.readthedocs.io/en/stable/user_install.html\">Jupyter\n",
       "  Widgets Documentation</a> for setup instructions.\n",
       "</p>\n",
       "<p>\n",
       "  If you're reading this message in another frontend (for example, a static\n",
       "  rendering on GitHub or <a href=\"https://nbviewer.jupyter.org/\">NBViewer</a>),\n",
       "  it may mean that your frontend doesn't currently support widgets.\n",
       "</p>\n"
      ],
      "text/plain": [
       "HBox(children=(IntProgress(value=0, description='Epoch', max=28), HTML(value='')))"
      ]
     },
     "metadata": {},
     "output_type": "display_data"
    },
    {
     "name": "stdout",
     "output_type": "stream",
     "text": [
      "epoch      trn_loss   val_loss                    \n",
      "    0      0.955321   0.874549  \n",
      "    1      0.954342   0.87321                     \n",
      "    2      0.947974   0.871858                    \n",
      "    3      0.943007   0.871327                    \n",
      "    4      0.940072   0.873203                    \n",
      "    5      0.93679    0.870581                    \n",
      "    6      0.934371   0.866401                    \n",
      "    7      0.932308   0.864541                    \n",
      "    8      0.929752   0.864459                    \n",
      "    9      0.926266   0.86364                     \n",
      "    10     0.924161   0.863211                    \n",
      "    11     0.923041   0.863191                    \n",
      "    12     0.921245   0.862878                    \n",
      "    13     0.920835   0.853788                    \n",
      "    14     0.915697   0.860107                    \n",
      "    15     0.908872   0.857884                    \n",
      "    16     0.909275   0.852607                    \n",
      "    17     0.910392   0.851241                    \n",
      "    18     0.909803   0.858395                    \n",
      "    19     0.90725    0.853685                    \n",
      "    20     0.901829   0.854423                    \n",
      "    21     0.898288   0.855332                    \n",
      "    22     0.897381   0.854165                    \n",
      "    23     0.896885   0.853534                    \n",
      "    24     0.896411   0.853258                    \n",
      "    25     0.893383   0.852965                    \n",
      "    26     0.894852   0.852987                    \n",
      "    27     0.892933   0.852991                    \n",
      "\n"
     ]
    },
    {
     "data": {
      "text/plain": [
       "[array([0.85299])]"
      ]
     },
     "execution_count": 48,
     "metadata": {},
     "output_type": "execute_result"
    }
   ],
   "source": [
    "lr = .001\n",
    "m.fit(lr, 3, cycle_len=4, cycle_mult=2 )"
   ]
  },
  {
   "cell_type": "markdown",
   "metadata": {},
   "source": [
    "#### ニューラルネットワークを保存"
   ]
  },
  {
   "cell_type": "code",
   "execution_count": 57,
   "metadata": {},
   "outputs": [],
   "source": [
    "m.save('classification_nn_model')"
   ]
  },
  {
   "cell_type": "code",
   "execution_count": 58,
   "metadata": {},
   "outputs": [],
   "source": [
    "m.load('classification_nn_model')"
   ]
  },
  {
   "cell_type": "markdown",
   "metadata": {},
   "source": [
    "# ❹モデル評価 (Validation)"
   ]
  },
  {
   "cell_type": "code",
   "execution_count": 49,
   "metadata": {},
   "outputs": [],
   "source": [
    "(x,y1)=m.predict_with_targs()"
   ]
  },
  {
   "cell_type": "code",
   "execution_count": 50,
   "metadata": {},
   "outputs": [
    {
     "data": {
      "text/plain": [
       "((70, 5), (70,))"
      ]
     },
     "execution_count": 50,
     "metadata": {},
     "output_type": "execute_result"
    }
   ],
   "source": [
    "x.shape,y1.shape"
   ]
  },
  {
   "cell_type": "code",
   "execution_count": 51,
   "metadata": {},
   "outputs": [
    {
     "data": {
      "text/plain": [
       "(array([-1.18856, -3.34624, -0.6783 , -4.55503, -1.95099], dtype=float32), 0)"
      ]
     },
     "execution_count": 51,
     "metadata": {},
     "output_type": "execute_result"
    }
   ],
   "source": [
    "x[1],y1[1]"
   ]
  },
  {
   "cell_type": "markdown",
   "metadata": {},
   "source": [
    "#### 実値と予測のモデル性能検証"
   ]
  },
  {
   "cell_type": "code",
   "execution_count": 52,
   "metadata": {},
   "outputs": [
    {
     "data": {
      "text/plain": [
       "(array([2, 2, 0, 0, 2, 0, 2, 2, 1, 1, 2, 0, 3, 1, 4, 1, 0, 3, 2, 0, ..., 0, 1, 0, 0, 2, 2, 1, 0, 0, 0, 3, 0,\n",
       "        3, 0, 2, 2, 0, 0, 0, 0]),\n",
       " array([2, 0, 2, 0, 2, 4, 2, 4, 1, 1, 2, 0, 3, 1, 0, 1, 0, 3, 0, 0, ..., 2, 1, 0, 0, 0, 2, 3, 2, 0, 2, 3, 0,\n",
       "        3, 4, 2, 2, 0, 0, 2, 0]))"
      ]
     },
     "execution_count": 52,
     "metadata": {},
     "output_type": "execute_result"
    }
   ],
   "source": [
    "(np.argmax(x,axis=1),y1)"
   ]
  },
  {
   "cell_type": "code",
   "execution_count": 53,
   "metadata": {},
   "outputs": [
    {
     "data": {
      "text/plain": [
       "(70,)"
      ]
     },
     "execution_count": 53,
     "metadata": {},
     "output_type": "execute_result"
    }
   ],
   "source": [
    "y1.shape"
   ]
  },
  {
   "cell_type": "code",
   "execution_count": 54,
   "metadata": {},
   "outputs": [
    {
     "data": {
      "text/html": [
       "<div>\n",
       "<style scoped>\n",
       "    .dataframe tbody tr th:only-of-type {\n",
       "        vertical-align: middle;\n",
       "    }\n",
       "\n",
       "    .dataframe tbody tr th {\n",
       "        vertical-align: top;\n",
       "    }\n",
       "\n",
       "    .dataframe thead th {\n",
       "        text-align: right;\n",
       "    }\n",
       "</style>\n",
       "<table border=\"1\" class=\"dataframe\">\n",
       "  <thead>\n",
       "    <tr style=\"text-align: right;\">\n",
       "      <th></th>\n",
       "      <th>item_id</th>\n",
       "      <th>category_class</th>\n",
       "      <th>category_class_pred</th>\n",
       "    </tr>\n",
       "  </thead>\n",
       "  <tbody>\n",
       "    <tr>\n",
       "      <th>70</th>\n",
       "      <td>4196</td>\n",
       "      <td>2</td>\n",
       "      <td>2</td>\n",
       "    </tr>\n",
       "    <tr>\n",
       "      <th>71</th>\n",
       "      <td>4297</td>\n",
       "      <td>0</td>\n",
       "      <td>2</td>\n",
       "    </tr>\n",
       "    <tr>\n",
       "      <th>72</th>\n",
       "      <td>3246</td>\n",
       "      <td>2</td>\n",
       "      <td>0</td>\n",
       "    </tr>\n",
       "    <tr>\n",
       "      <th>73</th>\n",
       "      <td>1082</td>\n",
       "      <td>0</td>\n",
       "      <td>0</td>\n",
       "    </tr>\n",
       "    <tr>\n",
       "      <th>74</th>\n",
       "      <td>3657</td>\n",
       "      <td>2</td>\n",
       "      <td>2</td>\n",
       "    </tr>\n",
       "    <tr>\n",
       "      <th>75</th>\n",
       "      <td>9408</td>\n",
       "      <td>4</td>\n",
       "      <td>0</td>\n",
       "    </tr>\n",
       "    <tr>\n",
       "      <th>76</th>\n",
       "      <td>9601</td>\n",
       "      <td>2</td>\n",
       "      <td>2</td>\n",
       "    </tr>\n",
       "    <tr>\n",
       "      <th>77</th>\n",
       "      <td>8520</td>\n",
       "      <td>4</td>\n",
       "      <td>2</td>\n",
       "    </tr>\n",
       "    <tr>\n",
       "      <th>78</th>\n",
       "      <td>1216</td>\n",
       "      <td>1</td>\n",
       "      <td>1</td>\n",
       "    </tr>\n",
       "    <tr>\n",
       "      <th>79</th>\n",
       "      <td>4339</td>\n",
       "      <td>1</td>\n",
       "      <td>1</td>\n",
       "    </tr>\n",
       "  </tbody>\n",
       "</table>\n",
       "</div>"
      ],
      "text/plain": [
       "    item_id  category_class  category_class_pred\n",
       "70     4196               2                    2\n",
       "71     4297               0                    2\n",
       "72     3246               2                    0\n",
       "73     1082               0                    0\n",
       "74     3657               2                    2\n",
       "75     9408               4                    0\n",
       "76     9601               2                    2\n",
       "77     8520               4                    2\n",
       "78     1216               1                    1\n",
       "79     4339               1                    1"
      ]
     },
     "execution_count": 54,
     "metadata": {},
     "output_type": "execute_result"
    }
   ],
   "source": [
    "val = train.iloc[val_idx]\n",
    "val[['item_id','category_class']]\n",
    "valpred = pd.DataFrame({'item_id':val.item_id, 'category_class':val.category_class, 'category_class_pred':np.argmax(x,axis=1)})[['item_id', 'category_class','category_class_pred']]\n",
    "valpred.head(10)"
   ]
  },
  {
   "cell_type": "code",
   "execution_count": 55,
   "metadata": {},
   "outputs": [
    {
     "data": {
      "text/plain": [
       "(46, 3)"
      ]
     },
     "execution_count": 55,
     "metadata": {},
     "output_type": "execute_result"
    }
   ],
   "source": [
    "valpred.loc[valpred.category_class == valpred.category_class_pred].shape"
   ]
  },
  {
   "cell_type": "code",
   "execution_count": 56,
   "metadata": {},
   "outputs": [
    {
     "data": {
      "text/html": [
       "<div>\n",
       "<style scoped>\n",
       "    .dataframe tbody tr th:only-of-type {\n",
       "        vertical-align: middle;\n",
       "    }\n",
       "\n",
       "    .dataframe tbody tr th {\n",
       "        vertical-align: top;\n",
       "    }\n",
       "\n",
       "    .dataframe thead th {\n",
       "        text-align: right;\n",
       "    }\n",
       "</style>\n",
       "<table border=\"1\" class=\"dataframe\">\n",
       "  <thead>\n",
       "    <tr style=\"text-align: right;\">\n",
       "      <th></th>\n",
       "      <th>item_id</th>\n",
       "      <th>category_class</th>\n",
       "      <th>category_class_pred</th>\n",
       "    </tr>\n",
       "  </thead>\n",
       "  <tbody>\n",
       "    <tr>\n",
       "      <th>70</th>\n",
       "      <td>4196</td>\n",
       "      <td>2</td>\n",
       "      <td>2</td>\n",
       "    </tr>\n",
       "    <tr>\n",
       "      <th>71</th>\n",
       "      <td>4297</td>\n",
       "      <td>0</td>\n",
       "      <td>2</td>\n",
       "    </tr>\n",
       "    <tr>\n",
       "      <th>72</th>\n",
       "      <td>3246</td>\n",
       "      <td>2</td>\n",
       "      <td>0</td>\n",
       "    </tr>\n",
       "    <tr>\n",
       "      <th>73</th>\n",
       "      <td>1082</td>\n",
       "      <td>0</td>\n",
       "      <td>0</td>\n",
       "    </tr>\n",
       "  </tbody>\n",
       "</table>\n",
       "</div>"
      ],
      "text/plain": [
       "    item_id  category_class  category_class_pred\n",
       "70     4196               2                    2\n",
       "71     4297               0                    2\n",
       "72     3246               2                    0\n",
       "73     1082               0                    0"
      ]
     },
     "execution_count": 56,
     "metadata": {},
     "output_type": "execute_result"
    }
   ],
   "source": [
    "valpred.head(4)"
   ]
  },
  {
   "cell_type": "markdown",
   "metadata": {},
   "source": [
    "### Accuracy (正解率)\n",
    "\n",
    "##### Accuracy = (TP + TN) / (TP + TN + FP + FN)"
   ]
  },
  {
   "cell_type": "code",
   "execution_count": 59,
   "metadata": {},
   "outputs": [],
   "source": [
    "from sklearn.metrics import accuracy_score"
   ]
  },
  {
   "cell_type": "code",
   "execution_count": 60,
   "metadata": {},
   "outputs": [
    {
     "data": {
      "text/plain": [
       "0.6571428571428571"
      ]
     },
     "execution_count": 60,
     "metadata": {},
     "output_type": "execute_result"
    }
   ],
   "source": [
    "accuracy_score(y1,np.argmax(x,axis=1))"
   ]
  },
  {
   "cell_type": "markdown",
   "metadata": {},
   "source": [
    "### 正解率は65.7%"
   ]
  },
  {
   "cell_type": "code",
   "execution_count": 61,
   "metadata": {},
   "outputs": [
    {
     "data": {
      "text/plain": [
       "0.6571428571428571"
      ]
     },
     "execution_count": 61,
     "metadata": {},
     "output_type": "execute_result"
    }
   ],
   "source": [
    "46/70"
   ]
  },
  {
   "cell_type": "markdown",
   "metadata": {},
   "source": [
    "### Confusion matrix (多クラスの混同行列)"
   ]
  },
  {
   "cell_type": "code",
   "execution_count": 62,
   "metadata": {},
   "outputs": [],
   "source": [
    "from sklearn.metrics import confusion_matrix"
   ]
  },
  {
   "cell_type": "code",
   "execution_count": 63,
   "metadata": {},
   "outputs": [
    {
     "data": {
      "text/plain": [
       "array([[18,  0,  6,  0,  1],\n",
       "       [ 0, 10,  1,  1,  0],\n",
       "       [ 5,  0, 11,  0,  0],\n",
       "       [ 1,  3,  0,  6,  0],\n",
       "       [ 5,  0,  1,  0,  1]])"
      ]
     },
     "execution_count": 63,
     "metadata": {},
     "output_type": "execute_result"
    }
   ],
   "source": [
    "confusion_matrix(y1,np.argmax(x,axis=1))"
   ]
  },
  {
   "cell_type": "markdown",
   "metadata": {},
   "source": [
    "confusion_matrix(y1,np.argmax(x,axis=1), labels=['0','1','2','3','4'])"
   ]
  },
  {
   "cell_type": "markdown",
   "metadata": {},
   "source": [
    "# 評価基準の Mean F1 score (F 値)\n",
    "\n",
    "#### F1 = 2 ✖︎ (precision ✖︎ recall) / (precision + recall)"
   ]
  },
  {
   "cell_type": "code",
   "execution_count": 64,
   "metadata": {},
   "outputs": [],
   "source": [
    "from sklearn.metrics import f1_score"
   ]
  },
  {
   "cell_type": "code",
   "execution_count": 65,
   "metadata": {},
   "outputs": [],
   "source": [
    "score = f1_score(y1,np.argmax(x,axis=1),average='macro')"
   ]
  },
  {
   "cell_type": "code",
   "execution_count": 66,
   "metadata": {},
   "outputs": [
    {
     "data": {
      "text/plain": [
       "0.6046685340802987"
      ]
     },
     "execution_count": 66,
     "metadata": {},
     "output_type": "execute_result"
    }
   ],
   "source": [
    "score"
   ]
  },
  {
   "cell_type": "markdown",
   "metadata": {},
   "source": [
    "## 今回のF1 Score は 60.5%です。"
   ]
  },
  {
   "cell_type": "markdown",
   "metadata": {},
   "source": [
    "多クラス分類のため今回に下記が利用できないが、一応メモにする\n",
    "\n",
    "精度 (Precision)\n",
    "\n",
    "Precision = TP / (TP + FP)\n",
    "\n",
    "from sklearn.metrics import precision_score\n",
    "\n",
    "precision_score(y1,np.argmax(x,axis=1))\n",
    "\n",
    "検出率 (Recall)\n",
    "\n",
    "Recall = TPR = Sensitivity = TP / (TP + FN)\n",
    "\n",
    "from sklearn.metrics import recall_score\n",
    "\n",
    "recall_score(y1,np.argmax(x,axis=1))"
   ]
  },
  {
   "cell_type": "markdown",
   "metadata": {},
   "source": [
    "# ❺ラベル推定 (Submission of test result)"
   ]
  },
  {
   "cell_type": "code",
   "execution_count": 67,
   "metadata": {},
   "outputs": [],
   "source": [
    "pred_test=m.predict(is_test=True)"
   ]
  },
  {
   "cell_type": "code",
   "execution_count": 68,
   "metadata": {},
   "outputs": [
    {
     "data": {
      "text/plain": [
       "array([2, 0, 1, 1, 2, 0, 0, 0, 0, 1, 0, 0, 0, 3, 0, 2, 1, 1, 0, 2, ..., 2, 1, 1, 2, 2, 2, 0, 0, 0, 3, 0, 2,\n",
       "       3, 0, 3, 0, 3, 1, 2, 1])"
      ]
     },
     "execution_count": 68,
     "metadata": {},
     "output_type": "execute_result"
    }
   ],
   "source": [
    "np.argmax(m.predict(True), axis =1)"
   ]
  },
  {
   "cell_type": "code",
   "execution_count": 69,
   "metadata": {},
   "outputs": [
    {
     "data": {
      "text/html": [
       "<div>\n",
       "<style scoped>\n",
       "    .dataframe tbody tr th:only-of-type {\n",
       "        vertical-align: middle;\n",
       "    }\n",
       "\n",
       "    .dataframe tbody tr th {\n",
       "        vertical-align: top;\n",
       "    }\n",
       "\n",
       "    .dataframe thead th {\n",
       "        text-align: right;\n",
       "    }\n",
       "</style>\n",
       "<table border=\"1\" class=\"dataframe\">\n",
       "  <thead>\n",
       "    <tr style=\"text-align: right;\">\n",
       "      <th></th>\n",
       "      <th>item_id</th>\n",
       "      <th>category_class</th>\n",
       "    </tr>\n",
       "  </thead>\n",
       "  <tbody>\n",
       "    <tr>\n",
       "      <th>0</th>\n",
       "      <td>6000</td>\n",
       "      <td>2</td>\n",
       "    </tr>\n",
       "    <tr>\n",
       "      <th>1</th>\n",
       "      <td>5532</td>\n",
       "      <td>0</td>\n",
       "    </tr>\n",
       "    <tr>\n",
       "      <th>2</th>\n",
       "      <td>6797</td>\n",
       "      <td>1</td>\n",
       "    </tr>\n",
       "    <tr>\n",
       "      <th>3</th>\n",
       "      <td>3325</td>\n",
       "      <td>1</td>\n",
       "    </tr>\n",
       "    <tr>\n",
       "      <th>4</th>\n",
       "      <td>5447</td>\n",
       "      <td>2</td>\n",
       "    </tr>\n",
       "    <tr>\n",
       "      <th>5</th>\n",
       "      <td>7191</td>\n",
       "      <td>0</td>\n",
       "    </tr>\n",
       "    <tr>\n",
       "      <th>6</th>\n",
       "      <td>9326</td>\n",
       "      <td>0</td>\n",
       "    </tr>\n",
       "    <tr>\n",
       "      <th>7</th>\n",
       "      <td>7136</td>\n",
       "      <td>0</td>\n",
       "    </tr>\n",
       "    <tr>\n",
       "      <th>8</th>\n",
       "      <td>7391</td>\n",
       "      <td>0</td>\n",
       "    </tr>\n",
       "    <tr>\n",
       "      <th>9</th>\n",
       "      <td>8131</td>\n",
       "      <td>1</td>\n",
       "    </tr>\n",
       "  </tbody>\n",
       "</table>\n",
       "</div>"
      ],
      "text/plain": [
       "   item_id  category_class\n",
       "0     6000               2\n",
       "1     5532               0\n",
       "2     6797               1\n",
       "3     3325               1\n",
       "4     5447               2\n",
       "5     7191               0\n",
       "6     9326               0\n",
       "7     7136               0\n",
       "8     7391               0\n",
       "9     8131               1"
      ]
     },
     "execution_count": 69,
     "metadata": {},
     "output_type": "execute_result"
    }
   ],
   "source": [
    "sub = pd.DataFrame({'item_id':test.item_id, 'category_class':np.argmax(m.predict(True), axis =1)})[['item_id', 'category_class']]\n",
    "sub.head(10)"
   ]
  },
  {
   "cell_type": "code",
   "execution_count": 70,
   "metadata": {},
   "outputs": [
    {
     "data": {
      "text/html": [
       "<a href='data/csv//tmp/test_submission.csv' target='_blank'>data/csv//tmp/test_submission.csv</a><br>"
      ],
      "text/plain": [
       "/home/yanhua/Documents/jupyter/yan/demo/Classification/data/csv/tmp/test_submission.csv"
      ]
     },
     "execution_count": 70,
     "metadata": {},
     "output_type": "execute_result"
    }
   ],
   "source": [
    "csv_fn=f'{PATH}/tmp/test_submission.csv'\n",
    "sub.to_csv(csv_fn, index=False)\n",
    "FileLink(csv_fn)"
   ]
  },
  {
   "cell_type": "code",
   "execution_count": 71,
   "metadata": {},
   "outputs": [
    {
     "data": {
      "text/html": [
       "<div>\n",
       "<style scoped>\n",
       "    .dataframe tbody tr th:only-of-type {\n",
       "        vertical-align: middle;\n",
       "    }\n",
       "\n",
       "    .dataframe tbody tr th {\n",
       "        vertical-align: top;\n",
       "    }\n",
       "\n",
       "    .dataframe thead th {\n",
       "        text-align: right;\n",
       "    }\n",
       "</style>\n",
       "<table border=\"1\" class=\"dataframe\">\n",
       "  <thead>\n",
       "    <tr style=\"text-align: right;\">\n",
       "      <th></th>\n",
       "      <th>item_id</th>\n",
       "      <th>category_class</th>\n",
       "    </tr>\n",
       "  </thead>\n",
       "  <tbody>\n",
       "    <tr>\n",
       "      <th>0</th>\n",
       "      <td>6000</td>\n",
       "      <td>2</td>\n",
       "    </tr>\n",
       "    <tr>\n",
       "      <th>1</th>\n",
       "      <td>5532</td>\n",
       "      <td>0</td>\n",
       "    </tr>\n",
       "    <tr>\n",
       "      <th>2</th>\n",
       "      <td>6797</td>\n",
       "      <td>1</td>\n",
       "    </tr>\n",
       "    <tr>\n",
       "      <th>3</th>\n",
       "      <td>3325</td>\n",
       "      <td>1</td>\n",
       "    </tr>\n",
       "    <tr>\n",
       "      <th>4</th>\n",
       "      <td>5447</td>\n",
       "      <td>2</td>\n",
       "    </tr>\n",
       "  </tbody>\n",
       "</table>\n",
       "</div>"
      ],
      "text/plain": [
       "   item_id  category_class\n",
       "0     6000               2\n",
       "1     5532               0\n",
       "2     6797               1\n",
       "3     3325               1\n",
       "4     5447               2"
      ]
     },
     "execution_count": 71,
     "metadata": {},
     "output_type": "execute_result"
    }
   ],
   "source": [
    "sub.head(5)"
   ]
  },
  {
   "cell_type": "code",
   "execution_count": 72,
   "metadata": {},
   "outputs": [
    {
     "data": {
      "text/plain": [
       "300"
      ]
     },
     "execution_count": 72,
     "metadata": {},
     "output_type": "execute_result"
    }
   ],
   "source": [
    "len(sub)"
   ]
  },
  {
   "cell_type": "code",
   "execution_count": null,
   "metadata": {},
   "outputs": [],
   "source": []
  },
  {
   "cell_type": "code",
   "execution_count": null,
   "metadata": {},
   "outputs": [],
   "source": []
  }
 ],
 "metadata": {
  "kernelspec": {
   "display_name": "Python 3",
   "language": "python",
   "name": "python3"
  },
  "language_info": {
   "codemirror_mode": {
    "name": "ipython",
    "version": 3
   },
   "file_extension": ".py",
   "mimetype": "text/x-python",
   "name": "python",
   "nbconvert_exporter": "python",
   "pygments_lexer": "ipython3",
   "version": "3.6.4"
  }
 },
 "nbformat": 4,
 "nbformat_minor": 2
}
